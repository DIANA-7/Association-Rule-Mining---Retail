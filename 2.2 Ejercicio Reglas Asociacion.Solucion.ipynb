{
 "cells": [
  {
   "cell_type": "markdown",
   "metadata": {},
   "source": [
    "# PyCaret 2 Association Rule Mining Example\n",
    "This notebook is created using PyCaret 2.0. Last updated : 31-07-2020"
   ]
  },
  {
   "cell_type": "code",
   "execution_count": 1,
   "metadata": {},
   "outputs": [
    {
     "data": {
      "text/plain": [
       "'2.1.2'"
      ]
     },
     "execution_count": 1,
     "metadata": {},
     "output_type": "execute_result"
    }
   ],
   "source": [
    "from pycaret.utils import version\n",
    "version()"
   ]
  },
  {
   "cell_type": "markdown",
   "metadata": {},
   "source": [
    "# 1. Loading dataset"
   ]
  },
  {
   "cell_type": "code",
   "execution_count": 2,
   "metadata": {},
   "outputs": [
    {
     "data": {
      "text/html": [
       "<div>\n",
       "<style scoped>\n",
       "    .dataframe tbody tr th:only-of-type {\n",
       "        vertical-align: middle;\n",
       "    }\n",
       "\n",
       "    .dataframe tbody tr th {\n",
       "        vertical-align: top;\n",
       "    }\n",
       "\n",
       "    .dataframe thead th {\n",
       "        text-align: right;\n",
       "    }\n",
       "</style>\n",
       "<table border=\"1\" class=\"dataframe\">\n",
       "  <thead>\n",
       "    <tr style=\"text-align: right;\">\n",
       "      <th></th>\n",
       "      <th>InvoiceNo</th>\n",
       "      <th>StockCode</th>\n",
       "      <th>Description</th>\n",
       "      <th>Quantity</th>\n",
       "      <th>InvoiceDate</th>\n",
       "      <th>UnitPrice</th>\n",
       "      <th>CustomerID</th>\n",
       "      <th>Country</th>\n",
       "    </tr>\n",
       "  </thead>\n",
       "  <tbody>\n",
       "    <tr>\n",
       "      <th>0</th>\n",
       "      <td>536370</td>\n",
       "      <td>22728</td>\n",
       "      <td>ALARM CLOCK BAKELIKE PINK</td>\n",
       "      <td>24</td>\n",
       "      <td>12/1/2010 8:45</td>\n",
       "      <td>3.75</td>\n",
       "      <td>12583.0</td>\n",
       "      <td>France</td>\n",
       "    </tr>\n",
       "    <tr>\n",
       "      <th>1</th>\n",
       "      <td>536370</td>\n",
       "      <td>22727</td>\n",
       "      <td>ALARM CLOCK BAKELIKE RED</td>\n",
       "      <td>24</td>\n",
       "      <td>12/1/2010 8:45</td>\n",
       "      <td>3.75</td>\n",
       "      <td>12583.0</td>\n",
       "      <td>France</td>\n",
       "    </tr>\n",
       "    <tr>\n",
       "      <th>2</th>\n",
       "      <td>536370</td>\n",
       "      <td>22726</td>\n",
       "      <td>ALARM CLOCK BAKELIKE GREEN</td>\n",
       "      <td>12</td>\n",
       "      <td>12/1/2010 8:45</td>\n",
       "      <td>3.75</td>\n",
       "      <td>12583.0</td>\n",
       "      <td>France</td>\n",
       "    </tr>\n",
       "    <tr>\n",
       "      <th>3</th>\n",
       "      <td>536370</td>\n",
       "      <td>21724</td>\n",
       "      <td>PANDA AND BUNNIES STICKER SHEET</td>\n",
       "      <td>12</td>\n",
       "      <td>12/1/2010 8:45</td>\n",
       "      <td>0.85</td>\n",
       "      <td>12583.0</td>\n",
       "      <td>France</td>\n",
       "    </tr>\n",
       "    <tr>\n",
       "      <th>4</th>\n",
       "      <td>536370</td>\n",
       "      <td>21883</td>\n",
       "      <td>STARS GIFT TAPE</td>\n",
       "      <td>24</td>\n",
       "      <td>12/1/2010 8:45</td>\n",
       "      <td>0.65</td>\n",
       "      <td>12583.0</td>\n",
       "      <td>France</td>\n",
       "    </tr>\n",
       "  </tbody>\n",
       "</table>\n",
       "</div>"
      ],
      "text/plain": [
       "  InvoiceNo StockCode                      Description  Quantity  \\\n",
       "0    536370     22728        ALARM CLOCK BAKELIKE PINK        24   \n",
       "1    536370     22727        ALARM CLOCK BAKELIKE RED         24   \n",
       "2    536370     22726       ALARM CLOCK BAKELIKE GREEN        12   \n",
       "3    536370     21724  PANDA AND BUNNIES STICKER SHEET        12   \n",
       "4    536370     21883                 STARS GIFT TAPE         24   \n",
       "\n",
       "      InvoiceDate  UnitPrice  CustomerID Country  \n",
       "0  12/1/2010 8:45       3.75     12583.0  France  \n",
       "1  12/1/2010 8:45       3.75     12583.0  France  \n",
       "2  12/1/2010 8:45       3.75     12583.0  France  \n",
       "3  12/1/2010 8:45       0.85     12583.0  France  \n",
       "4  12/1/2010 8:45       0.65     12583.0  France  "
      ]
     },
     "metadata": {},
     "output_type": "display_data"
    }
   ],
   "source": [
    "from pycaret.datasets import get_data\n",
    "data = get_data('france')"
   ]
  },
  {
   "cell_type": "markdown",
   "metadata": {},
   "source": [
    "# 2. Init setup"
   ]
  },
  {
   "cell_type": "code",
   "execution_count": 3,
   "metadata": {},
   "outputs": [],
   "source": [
    "from pycaret.arules import *"
   ]
  },
  {
   "cell_type": "code",
   "execution_count": 4,
   "metadata": {},
   "outputs": [
    {
     "data": {
      "text/html": [
       "<style  type=\"text/css\" >\n",
       "</style><table id=\"T_467dc74a_0a03_11eb_9d53_9cda3eca42ce\" ><thead>    <tr>        <th class=\"col_heading level0 col0\" >Description</th>        <th class=\"col_heading level0 col1\" >Value</th>    </tr></thead><tbody>\n",
       "                <tr>\n",
       "                                <td id=\"T_467dc74a_0a03_11eb_9d53_9cda3eca42cerow0_col0\" class=\"data row0 col0\" >session_id</td>\n",
       "                        <td id=\"T_467dc74a_0a03_11eb_9d53_9cda3eca42cerow0_col1\" class=\"data row0 col1\" >4291</td>\n",
       "            </tr>\n",
       "            <tr>\n",
       "                                <td id=\"T_467dc74a_0a03_11eb_9d53_9cda3eca42cerow1_col0\" class=\"data row1 col0\" ># Transactions</td>\n",
       "                        <td id=\"T_467dc74a_0a03_11eb_9d53_9cda3eca42cerow1_col1\" class=\"data row1 col1\" >461</td>\n",
       "            </tr>\n",
       "            <tr>\n",
       "                                <td id=\"T_467dc74a_0a03_11eb_9d53_9cda3eca42cerow2_col0\" class=\"data row2 col0\" ># Items</td>\n",
       "                        <td id=\"T_467dc74a_0a03_11eb_9d53_9cda3eca42cerow2_col1\" class=\"data row2 col1\" >1565</td>\n",
       "            </tr>\n",
       "            <tr>\n",
       "                                <td id=\"T_467dc74a_0a03_11eb_9d53_9cda3eca42cerow3_col0\" class=\"data row3 col0\" >Ignore Items</td>\n",
       "                        <td id=\"T_467dc74a_0a03_11eb_9d53_9cda3eca42cerow3_col1\" class=\"data row3 col1\" >None</td>\n",
       "            </tr>\n",
       "    </tbody></table>"
      ],
      "text/plain": [
       "<pandas.io.formats.style.Styler at 0x1ada01d9788>"
      ]
     },
     "metadata": {},
     "output_type": "display_data"
    }
   ],
   "source": [
    "s = setup(data, 'InvoiceNo', item_id='Description')"
   ]
  },
  {
   "cell_type": "markdown",
   "metadata": {},
   "source": [
    "# 3. Create Model"
   ]
  },
  {
   "cell_type": "code",
   "execution_count": 11,
   "metadata": {},
   "outputs": [],
   "source": [
    "model0 = create_model()"
   ]
  },
  {
   "cell_type": "code",
   "execution_count": 7,
   "metadata": {},
   "outputs": [],
   "source": [
    "model1 = create_model(metric = 'lift',threshold=0.6,min_support=0.06, round=2 )"
   ]
  },
  {
   "cell_type": "code",
   "execution_count": 8,
   "metadata": {},
   "outputs": [
    {
     "data": {
      "text/html": [
       "<div>\n",
       "<style scoped>\n",
       "    .dataframe tbody tr th:only-of-type {\n",
       "        vertical-align: middle;\n",
       "    }\n",
       "\n",
       "    .dataframe tbody tr th {\n",
       "        vertical-align: top;\n",
       "    }\n",
       "\n",
       "    .dataframe thead th {\n",
       "        text-align: right;\n",
       "    }\n",
       "</style>\n",
       "<table border=\"1\" class=\"dataframe\">\n",
       "  <thead>\n",
       "    <tr style=\"text-align: right;\">\n",
       "      <th></th>\n",
       "      <th>antecedents</th>\n",
       "      <th>consequents</th>\n",
       "      <th>antecedent support</th>\n",
       "      <th>consequent support</th>\n",
       "      <th>support</th>\n",
       "      <th>confidence</th>\n",
       "      <th>lift</th>\n",
       "      <th>leverage</th>\n",
       "      <th>conviction</th>\n",
       "    </tr>\n",
       "  </thead>\n",
       "  <tbody>\n",
       "    <tr>\n",
       "      <th>0</th>\n",
       "      <td>(POSTAGE, ALARM CLOCK BAKELIKE GREEN)</td>\n",
       "      <td>(ALARM CLOCK BAKELIKE RED )</td>\n",
       "      <td>0.07</td>\n",
       "      <td>0.08</td>\n",
       "      <td>0.06</td>\n",
       "      <td>0.85</td>\n",
       "      <td>10.57</td>\n",
       "      <td>0.05</td>\n",
       "      <td>6.07</td>\n",
       "    </tr>\n",
       "    <tr>\n",
       "      <th>1</th>\n",
       "      <td>(ALARM CLOCK BAKELIKE RED )</td>\n",
       "      <td>(POSTAGE, ALARM CLOCK BAKELIKE GREEN)</td>\n",
       "      <td>0.08</td>\n",
       "      <td>0.07</td>\n",
       "      <td>0.06</td>\n",
       "      <td>0.76</td>\n",
       "      <td>10.57</td>\n",
       "      <td>0.05</td>\n",
       "      <td>3.82</td>\n",
       "    </tr>\n",
       "    <tr>\n",
       "      <th>2</th>\n",
       "      <td>(ALARM CLOCK BAKELIKE RED )</td>\n",
       "      <td>(ALARM CLOCK BAKELIKE GREEN)</td>\n",
       "      <td>0.08</td>\n",
       "      <td>0.08</td>\n",
       "      <td>0.07</td>\n",
       "      <td>0.84</td>\n",
       "      <td>9.90</td>\n",
       "      <td>0.06</td>\n",
       "      <td>5.64</td>\n",
       "    </tr>\n",
       "    <tr>\n",
       "      <th>3</th>\n",
       "      <td>(ALARM CLOCK BAKELIKE GREEN)</td>\n",
       "      <td>(ALARM CLOCK BAKELIKE RED )</td>\n",
       "      <td>0.08</td>\n",
       "      <td>0.08</td>\n",
       "      <td>0.07</td>\n",
       "      <td>0.79</td>\n",
       "      <td>9.90</td>\n",
       "      <td>0.06</td>\n",
       "      <td>4.48</td>\n",
       "    </tr>\n",
       "    <tr>\n",
       "      <th>4</th>\n",
       "      <td>(POSTAGE, ALARM CLOCK BAKELIKE RED )</td>\n",
       "      <td>(ALARM CLOCK BAKELIKE GREEN)</td>\n",
       "      <td>0.07</td>\n",
       "      <td>0.08</td>\n",
       "      <td>0.06</td>\n",
       "      <td>0.82</td>\n",
       "      <td>9.73</td>\n",
       "      <td>0.05</td>\n",
       "      <td>5.19</td>\n",
       "    </tr>\n",
       "    <tr>\n",
       "      <th>...</th>\n",
       "      <td>...</td>\n",
       "      <td>...</td>\n",
       "      <td>...</td>\n",
       "      <td>...</td>\n",
       "      <td>...</td>\n",
       "      <td>...</td>\n",
       "      <td>...</td>\n",
       "      <td>...</td>\n",
       "      <td>...</td>\n",
       "    </tr>\n",
       "    <tr>\n",
       "      <th>137</th>\n",
       "      <td>(SPACEBOY LUNCH BOX )</td>\n",
       "      <td>(POSTAGE)</td>\n",
       "      <td>0.11</td>\n",
       "      <td>0.67</td>\n",
       "      <td>0.08</td>\n",
       "      <td>0.78</td>\n",
       "      <td>1.15</td>\n",
       "      <td>0.01</td>\n",
       "      <td>1.45</td>\n",
       "    </tr>\n",
       "    <tr>\n",
       "      <th>138</th>\n",
       "      <td>(LUNCH BAG SPACEBOY DESIGN )</td>\n",
       "      <td>(POSTAGE)</td>\n",
       "      <td>0.10</td>\n",
       "      <td>0.67</td>\n",
       "      <td>0.08</td>\n",
       "      <td>0.75</td>\n",
       "      <td>1.11</td>\n",
       "      <td>0.01</td>\n",
       "      <td>1.30</td>\n",
       "    </tr>\n",
       "    <tr>\n",
       "      <th>139</th>\n",
       "      <td>(POSTAGE)</td>\n",
       "      <td>(LUNCH BAG SPACEBOY DESIGN )</td>\n",
       "      <td>0.67</td>\n",
       "      <td>0.10</td>\n",
       "      <td>0.08</td>\n",
       "      <td>0.12</td>\n",
       "      <td>1.11</td>\n",
       "      <td>0.01</td>\n",
       "      <td>1.01</td>\n",
       "    </tr>\n",
       "    <tr>\n",
       "      <th>140</th>\n",
       "      <td>(DOLLY GIRL LUNCH BOX)</td>\n",
       "      <td>(POSTAGE)</td>\n",
       "      <td>0.09</td>\n",
       "      <td>0.67</td>\n",
       "      <td>0.06</td>\n",
       "      <td>0.73</td>\n",
       "      <td>1.07</td>\n",
       "      <td>0.00</td>\n",
       "      <td>1.18</td>\n",
       "    </tr>\n",
       "    <tr>\n",
       "      <th>141</th>\n",
       "      <td>(POSTAGE)</td>\n",
       "      <td>(DOLLY GIRL LUNCH BOX)</td>\n",
       "      <td>0.67</td>\n",
       "      <td>0.09</td>\n",
       "      <td>0.06</td>\n",
       "      <td>0.09</td>\n",
       "      <td>1.07</td>\n",
       "      <td>0.00</td>\n",
       "      <td>1.01</td>\n",
       "    </tr>\n",
       "  </tbody>\n",
       "</table>\n",
       "<p>142 rows × 9 columns</p>\n",
       "</div>"
      ],
      "text/plain": [
       "                               antecedents  \\\n",
       "0    (POSTAGE, ALARM CLOCK BAKELIKE GREEN)   \n",
       "1              (ALARM CLOCK BAKELIKE RED )   \n",
       "2              (ALARM CLOCK BAKELIKE RED )   \n",
       "3             (ALARM CLOCK BAKELIKE GREEN)   \n",
       "4     (POSTAGE, ALARM CLOCK BAKELIKE RED )   \n",
       "..                                     ...   \n",
       "137                  (SPACEBOY LUNCH BOX )   \n",
       "138           (LUNCH BAG SPACEBOY DESIGN )   \n",
       "139                              (POSTAGE)   \n",
       "140                 (DOLLY GIRL LUNCH BOX)   \n",
       "141                              (POSTAGE)   \n",
       "\n",
       "                               consequents  antecedent support  \\\n",
       "0              (ALARM CLOCK BAKELIKE RED )                0.07   \n",
       "1    (POSTAGE, ALARM CLOCK BAKELIKE GREEN)                0.08   \n",
       "2             (ALARM CLOCK BAKELIKE GREEN)                0.08   \n",
       "3              (ALARM CLOCK BAKELIKE RED )                0.08   \n",
       "4             (ALARM CLOCK BAKELIKE GREEN)                0.07   \n",
       "..                                     ...                 ...   \n",
       "137                              (POSTAGE)                0.11   \n",
       "138                              (POSTAGE)                0.10   \n",
       "139           (LUNCH BAG SPACEBOY DESIGN )                0.67   \n",
       "140                              (POSTAGE)                0.09   \n",
       "141                 (DOLLY GIRL LUNCH BOX)                0.67   \n",
       "\n",
       "     consequent support  support  confidence   lift  leverage  conviction  \n",
       "0                  0.08     0.06        0.85  10.57      0.05        6.07  \n",
       "1                  0.07     0.06        0.76  10.57      0.05        3.82  \n",
       "2                  0.08     0.07        0.84   9.90      0.06        5.64  \n",
       "3                  0.08     0.07        0.79   9.90      0.06        4.48  \n",
       "4                  0.08     0.06        0.82   9.73      0.05        5.19  \n",
       "..                  ...      ...         ...    ...       ...         ...  \n",
       "137                0.67     0.08        0.78   1.15      0.01        1.45  \n",
       "138                0.67     0.08        0.75   1.11      0.01        1.30  \n",
       "139                0.10     0.08        0.12   1.11      0.01        1.01  \n",
       "140                0.67     0.06        0.73   1.07      0.00        1.18  \n",
       "141                0.09     0.06        0.09   1.07      0.00        1.01  \n",
       "\n",
       "[142 rows x 9 columns]"
      ]
     },
     "execution_count": 8,
     "metadata": {},
     "output_type": "execute_result"
    }
   ],
   "source": [
    "model1"
   ]
  },
  {
   "cell_type": "markdown",
   "metadata": {},
   "source": [
    "# 4. Plot Model"
   ]
  },
  {
   "cell_type": "code",
   "execution_count": 9,
   "metadata": {},
   "outputs": [
    {
     "data": {
      "text/html": [
       "        <script type=\"text/javascript\">\n",
       "        window.PlotlyConfig = {MathJaxConfig: 'local'};\n",
       "        if (window.MathJax) {MathJax.Hub.Config({SVG: {font: \"STIX-Web\"}});}\n",
       "        if (typeof require !== 'undefined') {\n",
       "        require.undef(\"plotly\");\n",
       "        requirejs.config({\n",
       "            paths: {\n",
       "                'plotly': ['https://cdn.plot.ly/plotly-latest.min']\n",
       "            }\n",
       "        });\n",
       "        require(['plotly'], function(Plotly) {\n",
       "            window._Plotly = Plotly;\n",
       "        });\n",
       "        }\n",
       "        </script>\n",
       "        "
      ]
     },
     "metadata": {},
     "output_type": "display_data"
    },
    {
     "data": {
      "application/vnd.plotly.v1+json": {
       "config": {
        "plotlyServerURL": "https://plot.ly"
       },
       "data": [
        {
         "customdata": [
          [
           "POSTAGE",
           "ALARM CLOCK BAKELIKE RED "
          ],
          [
           "ALARM CLOCK BAKELIKE RED ",
           "POSTAGE"
          ],
          [
           "ALARM CLOCK BAKELIKE RED ",
           "ALARM CLOCK BAKELIKE GREEN"
          ],
          [
           "ALARM CLOCK BAKELIKE GREEN",
           "ALARM CLOCK BAKELIKE RED "
          ],
          [
           "POSTAGE",
           "ALARM CLOCK BAKELIKE GREEN"
          ],
          [
           "ALARM CLOCK BAKELIKE GREEN",
           "POSTAGE"
          ],
          [
           "ALARM CLOCK BAKELIKE RED ",
           "ALARM CLOCK BAKELIKE PINK"
          ],
          [
           "ALARM CLOCK BAKELIKE PINK",
           "ALARM CLOCK BAKELIKE RED "
          ],
          [
           "SET/6 RED SPOTTY PAPER PLATES",
           "SET/20 RED RETROSPOT PAPER NAPKINS "
          ],
          [
           "SET/20 RED RETROSPOT PAPER NAPKINS ",
           "SET/6 RED SPOTTY PAPER PLATES"
          ],
          [
           "POSTAGE",
           "SET/6 RED SPOTTY PAPER PLATES"
          ],
          [
           "SET/6 RED SPOTTY PAPER PLATES",
           "POSTAGE"
          ],
          [
           "SET/20 RED RETROSPOT PAPER NAPKINS ",
           "POSTAGE"
          ],
          [
           "POSTAGE",
           "SET/20 RED RETROSPOT PAPER NAPKINS "
          ],
          [
           "ALARM CLOCK BAKELIKE GREEN",
           "ALARM CLOCK BAKELIKE PINK"
          ],
          [
           "ALARM CLOCK BAKELIKE PINK",
           "ALARM CLOCK BAKELIKE GREEN"
          ],
          [
           "SET/6 RED SPOTTY PAPER CUPS",
           "SET/20 RED RETROSPOT PAPER NAPKINS "
          ],
          [
           "SET/20 RED RETROSPOT PAPER NAPKINS ",
           "SET/6 RED SPOTTY PAPER CUPS"
          ],
          [
           "POSTAGE",
           "SET/6 RED SPOTTY PAPER CUPS"
          ],
          [
           "SET/6 RED SPOTTY PAPER CUPS",
           "POSTAGE"
          ],
          [
           "SET/6 RED SPOTTY PAPER PLATES",
           "SET/6 RED SPOTTY PAPER CUPS"
          ],
          [
           "SET/6 RED SPOTTY PAPER CUPS",
           "SET/6 RED SPOTTY PAPER PLATES"
          ],
          [
           "POSTAGE",
           "SET/6 RED SPOTTY PAPER CUPS"
          ],
          [
           "SET/6 RED SPOTTY PAPER CUPS",
           "POSTAGE"
          ],
          [
           "SET/20 RED RETROSPOT PAPER NAPKINS ",
           "POSTAGE"
          ],
          [
           "POSTAGE",
           "SET/20 RED RETROSPOT PAPER NAPKINS "
          ],
          [
           "SET/6 RED SPOTTY PAPER PLATES",
           "POSTAGE"
          ],
          [
           "POSTAGE",
           "SET/6 RED SPOTTY PAPER PLATES"
          ],
          [
           "SET/20 RED RETROSPOT PAPER NAPKINS ",
           "SET/6 RED SPOTTY PAPER CUPS"
          ],
          [
           "SET/6 RED SPOTTY PAPER CUPS",
           "SET/20 RED RETROSPOT PAPER NAPKINS "
          ],
          [
           "POSTAGE",
           "SET/6 RED SPOTTY PAPER CUPS"
          ],
          [
           "SET/6 RED SPOTTY PAPER CUPS",
           "POSTAGE"
          ],
          [
           "POSTAGE",
           "SET/20 RED RETROSPOT PAPER NAPKINS "
          ],
          [
           "SET/20 RED RETROSPOT PAPER NAPKINS ",
           "SET/6 RED SPOTTY PAPER PLATES"
          ],
          [
           "SET/20 RED RETROSPOT PAPER NAPKINS ",
           "POSTAGE"
          ],
          [
           "SET/6 RED SPOTTY PAPER PLATES",
           "SET/20 RED RETROSPOT PAPER NAPKINS "
          ],
          [
           "POSTAGE",
           "SET/6 RED SPOTTY PAPER PLATES"
          ],
          [
           "SET/6 RED SPOTTY PAPER PLATES",
           "POSTAGE"
          ],
          [
           "POSTAGE",
           "SET/20 RED RETROSPOT PAPER NAPKINS "
          ],
          [
           "SET/20 RED RETROSPOT PAPER NAPKINS ",
           "POSTAGE"
          ],
          [
           "SPACEBOY LUNCH BOX ",
           "DOLLY GIRL LUNCH BOX"
          ],
          [
           "DOLLY GIRL LUNCH BOX",
           "SPACEBOY LUNCH BOX "
          ],
          [
           "SET/20 RED RETROSPOT PAPER NAPKINS ",
           "SET/6 RED SPOTTY PAPER CUPS"
          ],
          [
           "SET/6 RED SPOTTY PAPER CUPS",
           "SET/20 RED RETROSPOT PAPER NAPKINS "
          ],
          [
           "POSTAGE",
           "SET/6 RED SPOTTY PAPER CUPS"
          ],
          [
           "SET/6 RED SPOTTY PAPER CUPS",
           "POSTAGE"
          ],
          [
           "SET/20 RED RETROSPOT PAPER NAPKINS ",
           "POSTAGE"
          ],
          [
           "POSTAGE",
           "SET/20 RED RETROSPOT PAPER NAPKINS "
          ],
          [
           "PLASTERS IN TIN SPACEBOY",
           "PLASTERS IN TIN WOODLAND ANIMALS"
          ],
          [
           "PLASTERS IN TIN WOODLAND ANIMALS",
           "PLASTERS IN TIN SPACEBOY"
          ],
          [
           "POSTAGE",
           "PLASTERS IN TIN SPACEBOY"
          ],
          [
           "PLASTERS IN TIN SPACEBOY",
           "POSTAGE"
          ],
          [
           "PLASTERS IN TIN WOODLAND ANIMALS",
           "POSTAGE"
          ],
          [
           "POSTAGE",
           "PLASTERS IN TIN WOODLAND ANIMALS"
          ],
          [
           "PLASTERS IN TIN SPACEBOY",
           "PLASTERS IN TIN CIRCUS PARADE "
          ],
          [
           "PLASTERS IN TIN CIRCUS PARADE ",
           "PLASTERS IN TIN SPACEBOY"
          ],
          [
           "PLASTERS IN TIN CIRCUS PARADE ",
           "POSTAGE"
          ],
          [
           "POSTAGE",
           "PLASTERS IN TIN CIRCUS PARADE "
          ],
          [
           "PLASTERS IN TIN SPACEBOY",
           "POSTAGE"
          ],
          [
           "POSTAGE",
           "PLASTERS IN TIN SPACEBOY"
          ],
          [
           "POSTAGE",
           "PLASTERS IN TIN CIRCUS PARADE "
          ],
          [
           "PLASTERS IN TIN CIRCUS PARADE ",
           "POSTAGE"
          ],
          [
           "PLASTERS IN TIN WOODLAND ANIMALS",
           "PLASTERS IN TIN CIRCUS PARADE "
          ],
          [
           "PLASTERS IN TIN CIRCUS PARADE ",
           "PLASTERS IN TIN WOODLAND ANIMALS"
          ],
          [
           "POSTAGE",
           "PLASTERS IN TIN WOODLAND ANIMALS"
          ],
          [
           "PLASTERS IN TIN WOODLAND ANIMALS",
           "POSTAGE"
          ],
          [
           "POSTAGE",
           "JUMBO BAG WOODLAND ANIMALS"
          ],
          [
           "JUMBO BAG WOODLAND ANIMALS",
           "POSTAGE"
          ],
          [
           "POSTAGE",
           "TEA PARTY BIRTHDAY CARD"
          ],
          [
           "TEA PARTY BIRTHDAY CARD",
           "POSTAGE"
          ],
          [
           "POSTAGE",
           "STRAWBERRY LUNCH BOX WITH CUTLERY"
          ],
          [
           "STRAWBERRY LUNCH BOX WITH CUTLERY",
           "POSTAGE"
          ],
          [
           "ALARM CLOCK BAKELIKE RED ",
           "POSTAGE"
          ],
          [
           "POSTAGE",
           "ALARM CLOCK BAKELIKE RED "
          ],
          [
           "ROUND SNACK BOXES SET OF4 WOODLAND ",
           "POSTAGE"
          ],
          [
           "POSTAGE",
           "ROUND SNACK BOXES SET OF4 WOODLAND "
          ],
          [
           "ALARM CLOCK BAKELIKE RED ",
           "POSTAGE"
          ],
          [
           "POSTAGE",
           "ALARM CLOCK BAKELIKE RED "
          ],
          [
           "ALARM CLOCK BAKELIKE PINK",
           "POSTAGE"
          ],
          [
           "POSTAGE",
           "ALARM CLOCK BAKELIKE PINK"
          ],
          [
           "PAPER BUNTING RETROSPOT",
           "POSTAGE"
          ],
          [
           "POSTAGE",
           "PAPER BUNTING RETROSPOT"
          ],
          [
           "POSTAGE",
           "RABBIT NIGHT LIGHT"
          ],
          [
           "RABBIT NIGHT LIGHT",
           "POSTAGE"
          ],
          [
           "POSTAGE",
           "RED TOADSTOOL LED NIGHT LIGHT"
          ],
          [
           "RED TOADSTOOL LED NIGHT LIGHT",
           "POSTAGE"
          ],
          [
           "ROUND SNACK BOXES SET OF 4 FRUITS ",
           "POSTAGE"
          ],
          [
           "POSTAGE",
           "ROUND SNACK BOXES SET OF 4 FRUITS "
          ],
          [
           "POSTAGE",
           "PLASTERS IN TIN CIRCUS PARADE "
          ],
          [
           "PLASTERS IN TIN CIRCUS PARADE ",
           "POSTAGE"
          ],
          [
           "SET/6 RED SPOTTY PAPER CUPS",
           "POSTAGE"
          ],
          [
           "POSTAGE",
           "SET/6 RED SPOTTY PAPER CUPS"
          ],
          [
           "POSTAGE",
           "LUNCH BAG WOODLAND"
          ],
          [
           "LUNCH BAG WOODLAND",
           "POSTAGE"
          ],
          [
           "POSTAGE",
           "ALARM CLOCK BAKELIKE GREEN"
          ],
          [
           "ALARM CLOCK BAKELIKE GREEN",
           "POSTAGE"
          ],
          [
           "JUMBO BAG RED RETROSPOT",
           "POSTAGE"
          ],
          [
           "POSTAGE",
           "RED RETROSPOT CHARLOTTE BAG"
          ],
          [
           "RED RETROSPOT CHARLOTTE BAG",
           "POSTAGE"
          ],
          [
           "POSTAGE",
           "JUMBO BAG RED RETROSPOT"
          ],
          [
           "POSTAGE",
           "SET/6 RED SPOTTY PAPER PLATES"
          ],
          [
           "SET/6 RED SPOTTY PAPER PLATES",
           "POSTAGE"
          ],
          [
           "SET/6 RED SPOTTY PAPER CUPS",
           "POSTAGE"
          ],
          [
           "POSTAGE",
           "SET/6 RED SPOTTY PAPER CUPS"
          ],
          [
           "SET/20 RED RETROSPOT PAPER NAPKINS ",
           "POSTAGE"
          ],
          [
           "POSTAGE",
           "SET/20 RED RETROSPOT PAPER NAPKINS "
          ],
          [
           "POSTAGE",
           "PACK OF 72 RETROSPOT CAKE CASES"
          ],
          [
           "PACK OF 72 RETROSPOT CAKE CASES",
           "POSTAGE"
          ],
          [
           "PLASTERS IN TIN CIRCUS PARADE ",
           "POSTAGE"
          ],
          [
           "SET/20 RED RETROSPOT PAPER NAPKINS ",
           "POSTAGE"
          ],
          [
           "POSTAGE",
           "SET/20 RED RETROSPOT PAPER NAPKINS "
          ],
          [
           "SET/20 RED RETROSPOT PAPER NAPKINS ",
           "POSTAGE"
          ],
          [
           "POSTAGE",
           "SET/20 RED RETROSPOT PAPER NAPKINS "
          ],
          [
           "POSTAGE",
           "PLASTERS IN TIN CIRCUS PARADE "
          ],
          [
           "SET/20 RED RETROSPOT PAPER NAPKINS ",
           "POSTAGE"
          ],
          [
           "POSTAGE",
           "SET/20 RED RETROSPOT PAPER NAPKINS "
          ],
          [
           "POSTAGE",
           "LUNCH BAG APPLE DESIGN"
          ],
          [
           "LUNCH BAG APPLE DESIGN",
           "POSTAGE"
          ],
          [
           "RED RETROSPOT MINI CASES",
           "POSTAGE"
          ],
          [
           "PLASTERS IN TIN SPACEBOY",
           "POSTAGE"
          ],
          [
           "POSTAGE",
           "PLASTERS IN TIN SPACEBOY"
          ],
          [
           "POSTAGE",
           "RED RETROSPOT MINI CASES"
          ],
          [
           "PLASTERS IN TIN WOODLAND ANIMALS",
           "POSTAGE"
          ],
          [
           "POSTAGE",
           "PLASTERS IN TIN WOODLAND ANIMALS"
          ],
          [
           "PLASTERS IN TIN CIRCUS PARADE ",
           "POSTAGE"
          ],
          [
           "POSTAGE",
           "PLASTERS IN TIN CIRCUS PARADE "
          ],
          [
           "PLASTERS IN TIN WOODLAND ANIMALS",
           "POSTAGE"
          ],
          [
           "POSTAGE",
           "PLASTERS IN TIN WOODLAND ANIMALS"
          ],
          [
           "LUNCH BOX WITH CUTLERY RETROSPOT ",
           "POSTAGE"
          ],
          [
           "POSTAGE",
           "LUNCH BOX WITH CUTLERY RETROSPOT "
          ],
          [
           "LUNCH BAG RED RETROSPOT",
           "POSTAGE"
          ],
          [
           "POSTAGE",
           "LUNCH BAG RED RETROSPOT"
          ],
          [
           "POSTAGE",
           "MINI PAINT SET VINTAGE "
          ],
          [
           "MINI PAINT SET VINTAGE ",
           "POSTAGE"
          ],
          [
           "REGENCY CAKESTAND 3 TIER",
           "POSTAGE"
          ],
          [
           "POSTAGE",
           "REGENCY CAKESTAND 3 TIER"
          ],
          [
           "POSTAGE",
           "SPACEBOY LUNCH BOX "
          ],
          [
           "SPACEBOY LUNCH BOX ",
           "POSTAGE"
          ],
          [
           "LUNCH BAG SPACEBOY DESIGN ",
           "POSTAGE"
          ],
          [
           "POSTAGE",
           "LUNCH BAG SPACEBOY DESIGN "
          ],
          [
           "DOLLY GIRL LUNCH BOX",
           "POSTAGE"
          ],
          [
           "POSTAGE",
           "DOLLY GIRL LUNCH BOX"
          ]
         ],
         "hoverlabel": {
          "namelength": 0
         },
         "hovertemplate": "support=%{x}<br>confidence=%{y}<br>antecedents=%{customdata[0]}<br>consequents=%{customdata[1]}<br>antecedents_short=%{text}<br>lift=%{marker.color}",
         "legendgroup": "",
         "marker": {
          "color": [
           10.57,
           10.57,
           9.9,
           9.9,
           9.73,
           9.73,
           9.03,
           9.03,
           8.99,
           8.99,
           8.94,
           8.94,
           8.78,
           8.78,
           8.57,
           8.57,
           8.32,
           8.32,
           8.28,
           8.28,
           8.2,
           8.2,
           8.13,
           8.13,
           8.02,
           8.02,
           8.02,
           8.02,
           7.2,
           7.2,
           7.15,
           7.15,
           7.09,
           7.09,
           7.09,
           7.09,
           7.08,
           7.08,
           6.97,
           6.97,
           6.59,
           6.59,
           6.57,
           6.57,
           6.55,
           6.55,
           6.36,
           6.36,
           5.13,
           5.13,
           5.12,
           5.12,
           5.05,
           5.05,
           4.44,
           4.44,
           4.37,
           4.37,
           4.19,
           4.19,
           4.14,
           4.14,
           4.05,
           4.05,
           3.91,
           3.91,
           1.48,
           1.48,
           1.4,
           1.4,
           1.39,
           1.39,
           1.36,
           1.36,
           1.34,
           1.34,
           1.34,
           1.34,
           1.3,
           1.3,
           1.3,
           1.3,
           1.28,
           1.28,
           1.28,
           1.28,
           1.28,
           1.28,
           1.26,
           1.26,
           1.26,
           1.26,
           1.26,
           1.26,
           1.25,
           1.25,
           1.25,
           1.25,
           1.25,
           1.25,
           1.25,
           1.25,
           1.24,
           1.24,
           1.23,
           1.23,
           1.22,
           1.22,
           1.22,
           1.22,
           1.22,
           1.22,
           1.22,
           1.22,
           1.22,
           1.22,
           1.22,
           1.22,
           1.21,
           1.21,
           1.21,
           1.21,
           1.19,
           1.19,
           1.19,
           1.19,
           1.19,
           1.19,
           1.17,
           1.17,
           1.17,
           1.17,
           1.16,
           1.16,
           1.15,
           1.15,
           1.15,
           1.15,
           1.11,
           1.11,
           1.07,
           1.07
          ],
          "coloraxis": "coloraxis",
          "opacity": 0.5,
          "symbol": "circle"
         },
         "mode": "markers+text",
         "name": "",
         "showlegend": false,
         "text": [
          "POSTAGE",
          "ALARM CLOC",
          "ALARM CLOC",
          "ALARM CLOC",
          "POSTAGE",
          "ALARM CLOC",
          "ALARM CLOC",
          "ALARM CLOC",
          "SET/6 RED ",
          "SET/20 RED",
          "POSTAGE",
          "SET/6 RED ",
          "SET/20 RED",
          "POSTAGE",
          "ALARM CLOC",
          "ALARM CLOC",
          "SET/6 RED ",
          "SET/20 RED",
          "POSTAGE",
          "SET/6 RED ",
          "SET/6 RED ",
          "SET/6 RED ",
          "POSTAGE",
          "SET/6 RED ",
          "SET/20 RED",
          "POSTAGE",
          "SET/6 RED ",
          "POSTAGE",
          "SET/20 RED",
          "SET/6 RED ",
          "POSTAGE",
          "SET/6 RED ",
          "POSTAGE",
          "SET/20 RED",
          "SET/20 RED",
          "SET/6 RED ",
          "POSTAGE",
          "SET/6 RED ",
          "POSTAGE",
          "SET/20 RED",
          "SPACEBOY L",
          "DOLLY GIRL",
          "SET/20 RED",
          "SET/6 RED ",
          "POSTAGE",
          "SET/6 RED ",
          "SET/20 RED",
          "POSTAGE",
          "PLASTERS I",
          "PLASTERS I",
          "POSTAGE",
          "PLASTERS I",
          "PLASTERS I",
          "POSTAGE",
          "PLASTERS I",
          "PLASTERS I",
          "PLASTERS I",
          "POSTAGE",
          "PLASTERS I",
          "POSTAGE",
          "POSTAGE",
          "PLASTERS I",
          "PLASTERS I",
          "PLASTERS I",
          "POSTAGE",
          "PLASTERS I",
          "POSTAGE",
          "JUMBO BAG ",
          "POSTAGE",
          "TEA PARTY ",
          "POSTAGE",
          "STRAWBERRY",
          "ALARM CLOC",
          "POSTAGE",
          "ROUND SNAC",
          "POSTAGE",
          "ALARM CLOC",
          "POSTAGE",
          "ALARM CLOC",
          "POSTAGE",
          "PAPER BUNT",
          "POSTAGE",
          "POSTAGE",
          "RABBIT NIG",
          "POSTAGE",
          "RED TOADST",
          "ROUND SNAC",
          "POSTAGE",
          "POSTAGE",
          "PLASTERS I",
          "SET/6 RED ",
          "POSTAGE",
          "POSTAGE",
          "LUNCH BAG ",
          "POSTAGE",
          "ALARM CLOC",
          "JUMBO BAG ",
          "POSTAGE",
          "RED RETROS",
          "POSTAGE",
          "POSTAGE",
          "SET/6 RED ",
          "SET/6 RED ",
          "POSTAGE",
          "SET/20 RED",
          "POSTAGE",
          "POSTAGE",
          "PACK OF 72",
          "PLASTERS I",
          "SET/20 RED",
          "POSTAGE",
          "SET/20 RED",
          "POSTAGE",
          "POSTAGE",
          "SET/20 RED",
          "POSTAGE",
          "POSTAGE",
          "LUNCH BAG ",
          "RED RETROS",
          "PLASTERS I",
          "POSTAGE",
          "POSTAGE",
          "PLASTERS I",
          "POSTAGE",
          "PLASTERS I",
          "POSTAGE",
          "PLASTERS I",
          "POSTAGE",
          "LUNCH BOX ",
          "POSTAGE",
          "LUNCH BAG ",
          "POSTAGE",
          "POSTAGE",
          "MINI PAINT",
          "REGENCY CA",
          "POSTAGE",
          "POSTAGE",
          "SPACEBOY L",
          "LUNCH BAG ",
          "POSTAGE",
          "DOLLY GIRL",
          "POSTAGE"
         ],
         "textposition": "top center",
         "type": "scatter",
         "x": [
          0.06,
          0.06,
          0.07,
          0.07,
          0.06,
          0.06,
          0.06,
          0.06,
          0.08,
          0.08,
          0.07,
          0.07,
          0.07,
          0.07,
          0.06,
          0.06,
          0.08,
          0.08,
          0.07,
          0.07,
          0.1,
          0.1,
          0.09,
          0.09,
          0.07,
          0.07,
          0.09,
          0.09,
          0.08,
          0.08,
          0.07,
          0.07,
          0.07,
          0.09,
          0.07,
          0.09,
          0.07,
          0.07,
          0.07,
          0.07,
          0.06,
          0.06,
          0.09,
          0.09,
          0.07,
          0.07,
          0.07,
          0.07,
          0.09,
          0.09,
          0.07,
          0.07,
          0.07,
          0.07,
          0.08,
          0.08,
          0.06,
          0.06,
          0.06,
          0.06,
          0.07,
          0.07,
          0.09,
          0.09,
          0.07,
          0.07,
          0.07,
          0.07,
          0.08,
          0.08,
          0.1,
          0.1,
          0.07,
          0.07,
          0.13,
          0.13,
          0.06,
          0.06,
          0.08,
          0.08,
          0.06,
          0.06,
          0.14,
          0.14,
          0.13,
          0.13,
          0.08,
          0.08,
          0.13,
          0.13,
          0.1,
          0.1,
          0.09,
          0.09,
          0.07,
          0.07,
          0.07,
          0.07,
          0.07,
          0.07,
          0.09,
          0.09,
          0.09,
          0.09,
          0.09,
          0.09,
          0.07,
          0.07,
          0.07,
          0.07,
          0.07,
          0.07,
          0.07,
          0.07,
          0.07,
          0.07,
          0.09,
          0.09,
          0.1,
          0.1,
          0.1,
          0.1,
          0.12,
          0.12,
          0.06,
          0.06,
          0.07,
          0.07,
          0.1,
          0.1,
          0.1,
          0.1,
          0.07,
          0.07,
          0.09,
          0.09,
          0.08,
          0.08,
          0.08,
          0.08,
          0.06,
          0.06
         ],
         "xaxis": "x",
         "y": [
          0.85,
          0.76,
          0.84,
          0.79,
          0.82,
          0.72,
          0.78,
          0.73,
          0.78,
          0.98,
          0.97,
          0.64,
          0.8,
          0.76,
          0.74,
          0.73,
          0.72,
          0.98,
          0.97,
          0.59,
          0.96,
          0.89,
          0.95,
          0.74,
          0.8,
          0.7,
          0.8,
          0.87,
          0.75,
          0.81,
          0.74,
          0.67,
          0.8,
          0.77,
          0.62,
          0.8,
          0.77,
          0.66,
          0.79,
          0.63,
          0.57,
          0.7,
          0.77,
          0.74,
          0.77,
          0.61,
          0.63,
          0.72,
          0.75,
          0.61,
          0.61,
          0.6,
          0.49,
          0.73,
          0.65,
          0.53,
          0.43,
          0.64,
          0.53,
          0.5,
          0.61,
          0.49,
          0.6,
          0.59,
          0.57,
          0.49,
          0.1,
          1,
          0.11,
          0.95,
          0.14,
          0.94,
          0.92,
          0.11,
          0.91,
          0.19,
          0.9,
          0.09,
          0.88,
          0.11,
          0.87,
          0.09,
          0.21,
          0.87,
          0.2,
          0.86,
          0.86,
          0.12,
          0.19,
          0.85,
          0.85,
          0.15,
          0.13,
          0.85,
          0.11,
          0.85,
          0.84,
          0.1,
          0.84,
          0.1,
          0.14,
          0.84,
          0.83,
          0.13,
          0.83,
          0.14,
          0.11,
          0.82,
          0.82,
          0.82,
          0.11,
          0.82,
          0.11,
          0.11,
          0.82,
          0.1,
          0.13,
          0.82,
          0.82,
          0.82,
          0.14,
          0.14,
          0.81,
          0.17,
          0.81,
          0.09,
          0.8,
          0.11,
          0.79,
          0.14,
          0.79,
          0.15,
          0.1,
          0.78,
          0.78,
          0.14,
          0.12,
          0.78,
          0.75,
          0.12,
          0.73,
          0.09
         ],
         "yaxis": "y"
        }
       ],
       "layout": {
        "coloraxis": {
         "colorbar": {
          "title": {
           "text": "lift"
          }
         },
         "colorscale": [
          [
           0,
           "#0d0887"
          ],
          [
           0.1111111111111111,
           "#46039f"
          ],
          [
           0.2222222222222222,
           "#7201a8"
          ],
          [
           0.3333333333333333,
           "#9c179e"
          ],
          [
           0.4444444444444444,
           "#bd3786"
          ],
          [
           0.5555555555555556,
           "#d8576b"
          ],
          [
           0.6666666666666666,
           "#ed7953"
          ],
          [
           0.7777777777777778,
           "#fb9f3a"
          ],
          [
           0.8888888888888888,
           "#fdca26"
          ],
          [
           1,
           "#f0f921"
          ]
         ]
        },
        "height": 800,
        "legend": {
         "tracegroupgap": 0
        },
        "margin": {
         "t": 60
        },
        "plot_bgcolor": "rgb(240,240,240)",
        "template": {
         "data": {
          "bar": [
           {
            "error_x": {
             "color": "#2a3f5f"
            },
            "error_y": {
             "color": "#2a3f5f"
            },
            "marker": {
             "line": {
              "color": "#E5ECF6",
              "width": 0.5
             }
            },
            "type": "bar"
           }
          ],
          "barpolar": [
           {
            "marker": {
             "line": {
              "color": "#E5ECF6",
              "width": 0.5
             }
            },
            "type": "barpolar"
           }
          ],
          "carpet": [
           {
            "aaxis": {
             "endlinecolor": "#2a3f5f",
             "gridcolor": "white",
             "linecolor": "white",
             "minorgridcolor": "white",
             "startlinecolor": "#2a3f5f"
            },
            "baxis": {
             "endlinecolor": "#2a3f5f",
             "gridcolor": "white",
             "linecolor": "white",
             "minorgridcolor": "white",
             "startlinecolor": "#2a3f5f"
            },
            "type": "carpet"
           }
          ],
          "choropleth": [
           {
            "colorbar": {
             "outlinewidth": 0,
             "ticks": ""
            },
            "type": "choropleth"
           }
          ],
          "contour": [
           {
            "colorbar": {
             "outlinewidth": 0,
             "ticks": ""
            },
            "colorscale": [
             [
              0,
              "#0d0887"
             ],
             [
              0.1111111111111111,
              "#46039f"
             ],
             [
              0.2222222222222222,
              "#7201a8"
             ],
             [
              0.3333333333333333,
              "#9c179e"
             ],
             [
              0.4444444444444444,
              "#bd3786"
             ],
             [
              0.5555555555555556,
              "#d8576b"
             ],
             [
              0.6666666666666666,
              "#ed7953"
             ],
             [
              0.7777777777777778,
              "#fb9f3a"
             ],
             [
              0.8888888888888888,
              "#fdca26"
             ],
             [
              1,
              "#f0f921"
             ]
            ],
            "type": "contour"
           }
          ],
          "contourcarpet": [
           {
            "colorbar": {
             "outlinewidth": 0,
             "ticks": ""
            },
            "type": "contourcarpet"
           }
          ],
          "heatmap": [
           {
            "colorbar": {
             "outlinewidth": 0,
             "ticks": ""
            },
            "colorscale": [
             [
              0,
              "#0d0887"
             ],
             [
              0.1111111111111111,
              "#46039f"
             ],
             [
              0.2222222222222222,
              "#7201a8"
             ],
             [
              0.3333333333333333,
              "#9c179e"
             ],
             [
              0.4444444444444444,
              "#bd3786"
             ],
             [
              0.5555555555555556,
              "#d8576b"
             ],
             [
              0.6666666666666666,
              "#ed7953"
             ],
             [
              0.7777777777777778,
              "#fb9f3a"
             ],
             [
              0.8888888888888888,
              "#fdca26"
             ],
             [
              1,
              "#f0f921"
             ]
            ],
            "type": "heatmap"
           }
          ],
          "heatmapgl": [
           {
            "colorbar": {
             "outlinewidth": 0,
             "ticks": ""
            },
            "colorscale": [
             [
              0,
              "#0d0887"
             ],
             [
              0.1111111111111111,
              "#46039f"
             ],
             [
              0.2222222222222222,
              "#7201a8"
             ],
             [
              0.3333333333333333,
              "#9c179e"
             ],
             [
              0.4444444444444444,
              "#bd3786"
             ],
             [
              0.5555555555555556,
              "#d8576b"
             ],
             [
              0.6666666666666666,
              "#ed7953"
             ],
             [
              0.7777777777777778,
              "#fb9f3a"
             ],
             [
              0.8888888888888888,
              "#fdca26"
             ],
             [
              1,
              "#f0f921"
             ]
            ],
            "type": "heatmapgl"
           }
          ],
          "histogram": [
           {
            "marker": {
             "colorbar": {
              "outlinewidth": 0,
              "ticks": ""
             }
            },
            "type": "histogram"
           }
          ],
          "histogram2d": [
           {
            "colorbar": {
             "outlinewidth": 0,
             "ticks": ""
            },
            "colorscale": [
             [
              0,
              "#0d0887"
             ],
             [
              0.1111111111111111,
              "#46039f"
             ],
             [
              0.2222222222222222,
              "#7201a8"
             ],
             [
              0.3333333333333333,
              "#9c179e"
             ],
             [
              0.4444444444444444,
              "#bd3786"
             ],
             [
              0.5555555555555556,
              "#d8576b"
             ],
             [
              0.6666666666666666,
              "#ed7953"
             ],
             [
              0.7777777777777778,
              "#fb9f3a"
             ],
             [
              0.8888888888888888,
              "#fdca26"
             ],
             [
              1,
              "#f0f921"
             ]
            ],
            "type": "histogram2d"
           }
          ],
          "histogram2dcontour": [
           {
            "colorbar": {
             "outlinewidth": 0,
             "ticks": ""
            },
            "colorscale": [
             [
              0,
              "#0d0887"
             ],
             [
              0.1111111111111111,
              "#46039f"
             ],
             [
              0.2222222222222222,
              "#7201a8"
             ],
             [
              0.3333333333333333,
              "#9c179e"
             ],
             [
              0.4444444444444444,
              "#bd3786"
             ],
             [
              0.5555555555555556,
              "#d8576b"
             ],
             [
              0.6666666666666666,
              "#ed7953"
             ],
             [
              0.7777777777777778,
              "#fb9f3a"
             ],
             [
              0.8888888888888888,
              "#fdca26"
             ],
             [
              1,
              "#f0f921"
             ]
            ],
            "type": "histogram2dcontour"
           }
          ],
          "mesh3d": [
           {
            "colorbar": {
             "outlinewidth": 0,
             "ticks": ""
            },
            "type": "mesh3d"
           }
          ],
          "parcoords": [
           {
            "line": {
             "colorbar": {
              "outlinewidth": 0,
              "ticks": ""
             }
            },
            "type": "parcoords"
           }
          ],
          "pie": [
           {
            "automargin": true,
            "type": "pie"
           }
          ],
          "scatter": [
           {
            "marker": {
             "colorbar": {
              "outlinewidth": 0,
              "ticks": ""
             }
            },
            "type": "scatter"
           }
          ],
          "scatter3d": [
           {
            "line": {
             "colorbar": {
              "outlinewidth": 0,
              "ticks": ""
             }
            },
            "marker": {
             "colorbar": {
              "outlinewidth": 0,
              "ticks": ""
             }
            },
            "type": "scatter3d"
           }
          ],
          "scattercarpet": [
           {
            "marker": {
             "colorbar": {
              "outlinewidth": 0,
              "ticks": ""
             }
            },
            "type": "scattercarpet"
           }
          ],
          "scattergeo": [
           {
            "marker": {
             "colorbar": {
              "outlinewidth": 0,
              "ticks": ""
             }
            },
            "type": "scattergeo"
           }
          ],
          "scattergl": [
           {
            "marker": {
             "colorbar": {
              "outlinewidth": 0,
              "ticks": ""
             }
            },
            "type": "scattergl"
           }
          ],
          "scattermapbox": [
           {
            "marker": {
             "colorbar": {
              "outlinewidth": 0,
              "ticks": ""
             }
            },
            "type": "scattermapbox"
           }
          ],
          "scatterpolar": [
           {
            "marker": {
             "colorbar": {
              "outlinewidth": 0,
              "ticks": ""
             }
            },
            "type": "scatterpolar"
           }
          ],
          "scatterpolargl": [
           {
            "marker": {
             "colorbar": {
              "outlinewidth": 0,
              "ticks": ""
             }
            },
            "type": "scatterpolargl"
           }
          ],
          "scatterternary": [
           {
            "marker": {
             "colorbar": {
              "outlinewidth": 0,
              "ticks": ""
             }
            },
            "type": "scatterternary"
           }
          ],
          "surface": [
           {
            "colorbar": {
             "outlinewidth": 0,
             "ticks": ""
            },
            "colorscale": [
             [
              0,
              "#0d0887"
             ],
             [
              0.1111111111111111,
              "#46039f"
             ],
             [
              0.2222222222222222,
              "#7201a8"
             ],
             [
              0.3333333333333333,
              "#9c179e"
             ],
             [
              0.4444444444444444,
              "#bd3786"
             ],
             [
              0.5555555555555556,
              "#d8576b"
             ],
             [
              0.6666666666666666,
              "#ed7953"
             ],
             [
              0.7777777777777778,
              "#fb9f3a"
             ],
             [
              0.8888888888888888,
              "#fdca26"
             ],
             [
              1,
              "#f0f921"
             ]
            ],
            "type": "surface"
           }
          ],
          "table": [
           {
            "cells": {
             "fill": {
              "color": "#EBF0F8"
             },
             "line": {
              "color": "white"
             }
            },
            "header": {
             "fill": {
              "color": "#C8D4E3"
             },
             "line": {
              "color": "white"
             }
            },
            "type": "table"
           }
          ]
         },
         "layout": {
          "annotationdefaults": {
           "arrowcolor": "#2a3f5f",
           "arrowhead": 0,
           "arrowwidth": 1
          },
          "coloraxis": {
           "colorbar": {
            "outlinewidth": 0,
            "ticks": ""
           }
          },
          "colorscale": {
           "diverging": [
            [
             0,
             "#8e0152"
            ],
            [
             0.1,
             "#c51b7d"
            ],
            [
             0.2,
             "#de77ae"
            ],
            [
             0.3,
             "#f1b6da"
            ],
            [
             0.4,
             "#fde0ef"
            ],
            [
             0.5,
             "#f7f7f7"
            ],
            [
             0.6,
             "#e6f5d0"
            ],
            [
             0.7,
             "#b8e186"
            ],
            [
             0.8,
             "#7fbc41"
            ],
            [
             0.9,
             "#4d9221"
            ],
            [
             1,
             "#276419"
            ]
           ],
           "sequential": [
            [
             0,
             "#0d0887"
            ],
            [
             0.1111111111111111,
             "#46039f"
            ],
            [
             0.2222222222222222,
             "#7201a8"
            ],
            [
             0.3333333333333333,
             "#9c179e"
            ],
            [
             0.4444444444444444,
             "#bd3786"
            ],
            [
             0.5555555555555556,
             "#d8576b"
            ],
            [
             0.6666666666666666,
             "#ed7953"
            ],
            [
             0.7777777777777778,
             "#fb9f3a"
            ],
            [
             0.8888888888888888,
             "#fdca26"
            ],
            [
             1,
             "#f0f921"
            ]
           ],
           "sequentialminus": [
            [
             0,
             "#0d0887"
            ],
            [
             0.1111111111111111,
             "#46039f"
            ],
            [
             0.2222222222222222,
             "#7201a8"
            ],
            [
             0.3333333333333333,
             "#9c179e"
            ],
            [
             0.4444444444444444,
             "#bd3786"
            ],
            [
             0.5555555555555556,
             "#d8576b"
            ],
            [
             0.6666666666666666,
             "#ed7953"
            ],
            [
             0.7777777777777778,
             "#fb9f3a"
            ],
            [
             0.8888888888888888,
             "#fdca26"
            ],
            [
             1,
             "#f0f921"
            ]
           ]
          },
          "colorway": [
           "#636efa",
           "#EF553B",
           "#00cc96",
           "#ab63fa",
           "#FFA15A",
           "#19d3f3",
           "#FF6692",
           "#B6E880",
           "#FF97FF",
           "#FECB52"
          ],
          "font": {
           "color": "#2a3f5f"
          },
          "geo": {
           "bgcolor": "white",
           "lakecolor": "white",
           "landcolor": "#E5ECF6",
           "showlakes": true,
           "showland": true,
           "subunitcolor": "white"
          },
          "hoverlabel": {
           "align": "left"
          },
          "hovermode": "closest",
          "mapbox": {
           "style": "light"
          },
          "paper_bgcolor": "white",
          "plot_bgcolor": "#E5ECF6",
          "polar": {
           "angularaxis": {
            "gridcolor": "white",
            "linecolor": "white",
            "ticks": ""
           },
           "bgcolor": "#E5ECF6",
           "radialaxis": {
            "gridcolor": "white",
            "linecolor": "white",
            "ticks": ""
           }
          },
          "scene": {
           "xaxis": {
            "backgroundcolor": "#E5ECF6",
            "gridcolor": "white",
            "gridwidth": 2,
            "linecolor": "white",
            "showbackground": true,
            "ticks": "",
            "zerolinecolor": "white"
           },
           "yaxis": {
            "backgroundcolor": "#E5ECF6",
            "gridcolor": "white",
            "gridwidth": 2,
            "linecolor": "white",
            "showbackground": true,
            "ticks": "",
            "zerolinecolor": "white"
           },
           "zaxis": {
            "backgroundcolor": "#E5ECF6",
            "gridcolor": "white",
            "gridwidth": 2,
            "linecolor": "white",
            "showbackground": true,
            "ticks": "",
            "zerolinecolor": "white"
           }
          },
          "shapedefaults": {
           "line": {
            "color": "#2a3f5f"
           }
          },
          "ternary": {
           "aaxis": {
            "gridcolor": "white",
            "linecolor": "white",
            "ticks": ""
           },
           "baxis": {
            "gridcolor": "white",
            "linecolor": "white",
            "ticks": ""
           },
           "bgcolor": "#E5ECF6",
           "caxis": {
            "gridcolor": "white",
            "linecolor": "white",
            "ticks": ""
           }
          },
          "title": {
           "x": 0.05
          },
          "xaxis": {
           "automargin": true,
           "gridcolor": "white",
           "linecolor": "white",
           "ticks": "",
           "title": {
            "standoff": 15
           },
           "zerolinecolor": "white",
           "zerolinewidth": 2
          },
          "yaxis": {
           "automargin": true,
           "gridcolor": "white",
           "linecolor": "white",
           "ticks": "",
           "title": {
            "standoff": 15
           },
           "zerolinecolor": "white",
           "zerolinewidth": 2
          }
         }
        },
        "title": {
         "text": "2D Plot of Support, Confidence and Lift"
        },
        "xaxis": {
         "anchor": "y",
         "domain": [
          0,
          1
         ],
         "title": {
          "text": "support"
         },
         "type": "log"
        },
        "yaxis": {
         "anchor": "x",
         "domain": [
          0,
          1
         ],
         "title": {
          "text": "confidence"
         }
        }
       }
      },
      "text/html": [
       "<div>\n",
       "        \n",
       "        \n",
       "            <div id=\"5cb94346-f508-4548-8d5e-3b627873297a\" class=\"plotly-graph-div\" style=\"height:800px; width:100%;\"></div>\n",
       "            <script type=\"text/javascript\">\n",
       "                require([\"plotly\"], function(Plotly) {\n",
       "                    window.PLOTLYENV=window.PLOTLYENV || {};\n",
       "                    \n",
       "                if (document.getElementById(\"5cb94346-f508-4548-8d5e-3b627873297a\")) {\n",
       "                    Plotly.newPlot(\n",
       "                        '5cb94346-f508-4548-8d5e-3b627873297a',\n",
       "                        [{\"customdata\": [[\"POSTAGE\", \"ALARM CLOCK BAKELIKE RED \"], [\"ALARM CLOCK BAKELIKE RED \", \"POSTAGE\"], [\"ALARM CLOCK BAKELIKE RED \", \"ALARM CLOCK BAKELIKE GREEN\"], [\"ALARM CLOCK BAKELIKE GREEN\", \"ALARM CLOCK BAKELIKE RED \"], [\"POSTAGE\", \"ALARM CLOCK BAKELIKE GREEN\"], [\"ALARM CLOCK BAKELIKE GREEN\", \"POSTAGE\"], [\"ALARM CLOCK BAKELIKE RED \", \"ALARM CLOCK BAKELIKE PINK\"], [\"ALARM CLOCK BAKELIKE PINK\", \"ALARM CLOCK BAKELIKE RED \"], [\"SET/6 RED SPOTTY PAPER PLATES\", \"SET/20 RED RETROSPOT PAPER NAPKINS \"], [\"SET/20 RED RETROSPOT PAPER NAPKINS \", \"SET/6 RED SPOTTY PAPER PLATES\"], [\"POSTAGE\", \"SET/6 RED SPOTTY PAPER PLATES\"], [\"SET/6 RED SPOTTY PAPER PLATES\", \"POSTAGE\"], [\"SET/20 RED RETROSPOT PAPER NAPKINS \", \"POSTAGE\"], [\"POSTAGE\", \"SET/20 RED RETROSPOT PAPER NAPKINS \"], [\"ALARM CLOCK BAKELIKE GREEN\", \"ALARM CLOCK BAKELIKE PINK\"], [\"ALARM CLOCK BAKELIKE PINK\", \"ALARM CLOCK BAKELIKE GREEN\"], [\"SET/6 RED SPOTTY PAPER CUPS\", \"SET/20 RED RETROSPOT PAPER NAPKINS \"], [\"SET/20 RED RETROSPOT PAPER NAPKINS \", \"SET/6 RED SPOTTY PAPER CUPS\"], [\"POSTAGE\", \"SET/6 RED SPOTTY PAPER CUPS\"], [\"SET/6 RED SPOTTY PAPER CUPS\", \"POSTAGE\"], [\"SET/6 RED SPOTTY PAPER PLATES\", \"SET/6 RED SPOTTY PAPER CUPS\"], [\"SET/6 RED SPOTTY PAPER CUPS\", \"SET/6 RED SPOTTY PAPER PLATES\"], [\"POSTAGE\", \"SET/6 RED SPOTTY PAPER CUPS\"], [\"SET/6 RED SPOTTY PAPER CUPS\", \"POSTAGE\"], [\"SET/20 RED RETROSPOT PAPER NAPKINS \", \"POSTAGE\"], [\"POSTAGE\", \"SET/20 RED RETROSPOT PAPER NAPKINS \"], [\"SET/6 RED SPOTTY PAPER PLATES\", \"POSTAGE\"], [\"POSTAGE\", \"SET/6 RED SPOTTY PAPER PLATES\"], [\"SET/20 RED RETROSPOT PAPER NAPKINS \", \"SET/6 RED SPOTTY PAPER CUPS\"], [\"SET/6 RED SPOTTY PAPER CUPS\", \"SET/20 RED RETROSPOT PAPER NAPKINS \"], [\"POSTAGE\", \"SET/6 RED SPOTTY PAPER CUPS\"], [\"SET/6 RED SPOTTY PAPER CUPS\", \"POSTAGE\"], [\"POSTAGE\", \"SET/20 RED RETROSPOT PAPER NAPKINS \"], [\"SET/20 RED RETROSPOT PAPER NAPKINS \", \"SET/6 RED SPOTTY PAPER PLATES\"], [\"SET/20 RED RETROSPOT PAPER NAPKINS \", \"POSTAGE\"], [\"SET/6 RED SPOTTY PAPER PLATES\", \"SET/20 RED RETROSPOT PAPER NAPKINS \"], [\"POSTAGE\", \"SET/6 RED SPOTTY PAPER PLATES\"], [\"SET/6 RED SPOTTY PAPER PLATES\", \"POSTAGE\"], [\"POSTAGE\", \"SET/20 RED RETROSPOT PAPER NAPKINS \"], [\"SET/20 RED RETROSPOT PAPER NAPKINS \", \"POSTAGE\"], [\"SPACEBOY LUNCH BOX \", \"DOLLY GIRL LUNCH BOX\"], [\"DOLLY GIRL LUNCH BOX\", \"SPACEBOY LUNCH BOX \"], [\"SET/20 RED RETROSPOT PAPER NAPKINS \", \"SET/6 RED SPOTTY PAPER CUPS\"], [\"SET/6 RED SPOTTY PAPER CUPS\", \"SET/20 RED RETROSPOT PAPER NAPKINS \"], [\"POSTAGE\", \"SET/6 RED SPOTTY PAPER CUPS\"], [\"SET/6 RED SPOTTY PAPER CUPS\", \"POSTAGE\"], [\"SET/20 RED RETROSPOT PAPER NAPKINS \", \"POSTAGE\"], [\"POSTAGE\", \"SET/20 RED RETROSPOT PAPER NAPKINS \"], [\"PLASTERS IN TIN SPACEBOY\", \"PLASTERS IN TIN WOODLAND ANIMALS\"], [\"PLASTERS IN TIN WOODLAND ANIMALS\", \"PLASTERS IN TIN SPACEBOY\"], [\"POSTAGE\", \"PLASTERS IN TIN SPACEBOY\"], [\"PLASTERS IN TIN SPACEBOY\", \"POSTAGE\"], [\"PLASTERS IN TIN WOODLAND ANIMALS\", \"POSTAGE\"], [\"POSTAGE\", \"PLASTERS IN TIN WOODLAND ANIMALS\"], [\"PLASTERS IN TIN SPACEBOY\", \"PLASTERS IN TIN CIRCUS PARADE \"], [\"PLASTERS IN TIN CIRCUS PARADE \", \"PLASTERS IN TIN SPACEBOY\"], [\"PLASTERS IN TIN CIRCUS PARADE \", \"POSTAGE\"], [\"POSTAGE\", \"PLASTERS IN TIN CIRCUS PARADE \"], [\"PLASTERS IN TIN SPACEBOY\", \"POSTAGE\"], [\"POSTAGE\", \"PLASTERS IN TIN SPACEBOY\"], [\"POSTAGE\", \"PLASTERS IN TIN CIRCUS PARADE \"], [\"PLASTERS IN TIN CIRCUS PARADE \", \"POSTAGE\"], [\"PLASTERS IN TIN WOODLAND ANIMALS\", \"PLASTERS IN TIN CIRCUS PARADE \"], [\"PLASTERS IN TIN CIRCUS PARADE \", \"PLASTERS IN TIN WOODLAND ANIMALS\"], [\"POSTAGE\", \"PLASTERS IN TIN WOODLAND ANIMALS\"], [\"PLASTERS IN TIN WOODLAND ANIMALS\", \"POSTAGE\"], [\"POSTAGE\", \"JUMBO BAG WOODLAND ANIMALS\"], [\"JUMBO BAG WOODLAND ANIMALS\", \"POSTAGE\"], [\"POSTAGE\", \"TEA PARTY BIRTHDAY CARD\"], [\"TEA PARTY BIRTHDAY CARD\", \"POSTAGE\"], [\"POSTAGE\", \"STRAWBERRY LUNCH BOX WITH CUTLERY\"], [\"STRAWBERRY LUNCH BOX WITH CUTLERY\", \"POSTAGE\"], [\"ALARM CLOCK BAKELIKE RED \", \"POSTAGE\"], [\"POSTAGE\", \"ALARM CLOCK BAKELIKE RED \"], [\"ROUND SNACK BOXES SET OF4 WOODLAND \", \"POSTAGE\"], [\"POSTAGE\", \"ROUND SNACK BOXES SET OF4 WOODLAND \"], [\"ALARM CLOCK BAKELIKE RED \", \"POSTAGE\"], [\"POSTAGE\", \"ALARM CLOCK BAKELIKE RED \"], [\"ALARM CLOCK BAKELIKE PINK\", \"POSTAGE\"], [\"POSTAGE\", \"ALARM CLOCK BAKELIKE PINK\"], [\"PAPER BUNTING RETROSPOT\", \"POSTAGE\"], [\"POSTAGE\", \"PAPER BUNTING RETROSPOT\"], [\"POSTAGE\", \"RABBIT NIGHT LIGHT\"], [\"RABBIT NIGHT LIGHT\", \"POSTAGE\"], [\"POSTAGE\", \"RED TOADSTOOL LED NIGHT LIGHT\"], [\"RED TOADSTOOL LED NIGHT LIGHT\", \"POSTAGE\"], [\"ROUND SNACK BOXES SET OF 4 FRUITS \", \"POSTAGE\"], [\"POSTAGE\", \"ROUND SNACK BOXES SET OF 4 FRUITS \"], [\"POSTAGE\", \"PLASTERS IN TIN CIRCUS PARADE \"], [\"PLASTERS IN TIN CIRCUS PARADE \", \"POSTAGE\"], [\"SET/6 RED SPOTTY PAPER CUPS\", \"POSTAGE\"], [\"POSTAGE\", \"SET/6 RED SPOTTY PAPER CUPS\"], [\"POSTAGE\", \"LUNCH BAG WOODLAND\"], [\"LUNCH BAG WOODLAND\", \"POSTAGE\"], [\"POSTAGE\", \"ALARM CLOCK BAKELIKE GREEN\"], [\"ALARM CLOCK BAKELIKE GREEN\", \"POSTAGE\"], [\"JUMBO BAG RED RETROSPOT\", \"POSTAGE\"], [\"POSTAGE\", \"RED RETROSPOT CHARLOTTE BAG\"], [\"RED RETROSPOT CHARLOTTE BAG\", \"POSTAGE\"], [\"POSTAGE\", \"JUMBO BAG RED RETROSPOT\"], [\"POSTAGE\", \"SET/6 RED SPOTTY PAPER PLATES\"], [\"SET/6 RED SPOTTY PAPER PLATES\", \"POSTAGE\"], [\"SET/6 RED SPOTTY PAPER CUPS\", \"POSTAGE\"], [\"POSTAGE\", \"SET/6 RED SPOTTY PAPER CUPS\"], [\"SET/20 RED RETROSPOT PAPER NAPKINS \", \"POSTAGE\"], [\"POSTAGE\", \"SET/20 RED RETROSPOT PAPER NAPKINS \"], [\"POSTAGE\", \"PACK OF 72 RETROSPOT CAKE CASES\"], [\"PACK OF 72 RETROSPOT CAKE CASES\", \"POSTAGE\"], [\"PLASTERS IN TIN CIRCUS PARADE \", \"POSTAGE\"], [\"SET/20 RED RETROSPOT PAPER NAPKINS \", \"POSTAGE\"], [\"POSTAGE\", \"SET/20 RED RETROSPOT PAPER NAPKINS \"], [\"SET/20 RED RETROSPOT PAPER NAPKINS \", \"POSTAGE\"], [\"POSTAGE\", \"SET/20 RED RETROSPOT PAPER NAPKINS \"], [\"POSTAGE\", \"PLASTERS IN TIN CIRCUS PARADE \"], [\"SET/20 RED RETROSPOT PAPER NAPKINS \", \"POSTAGE\"], [\"POSTAGE\", \"SET/20 RED RETROSPOT PAPER NAPKINS \"], [\"POSTAGE\", \"LUNCH BAG APPLE DESIGN\"], [\"LUNCH BAG APPLE DESIGN\", \"POSTAGE\"], [\"RED RETROSPOT MINI CASES\", \"POSTAGE\"], [\"PLASTERS IN TIN SPACEBOY\", \"POSTAGE\"], [\"POSTAGE\", \"PLASTERS IN TIN SPACEBOY\"], [\"POSTAGE\", \"RED RETROSPOT MINI CASES\"], [\"PLASTERS IN TIN WOODLAND ANIMALS\", \"POSTAGE\"], [\"POSTAGE\", \"PLASTERS IN TIN WOODLAND ANIMALS\"], [\"PLASTERS IN TIN CIRCUS PARADE \", \"POSTAGE\"], [\"POSTAGE\", \"PLASTERS IN TIN CIRCUS PARADE \"], [\"PLASTERS IN TIN WOODLAND ANIMALS\", \"POSTAGE\"], [\"POSTAGE\", \"PLASTERS IN TIN WOODLAND ANIMALS\"], [\"LUNCH BOX WITH CUTLERY RETROSPOT \", \"POSTAGE\"], [\"POSTAGE\", \"LUNCH BOX WITH CUTLERY RETROSPOT \"], [\"LUNCH BAG RED RETROSPOT\", \"POSTAGE\"], [\"POSTAGE\", \"LUNCH BAG RED RETROSPOT\"], [\"POSTAGE\", \"MINI PAINT SET VINTAGE \"], [\"MINI PAINT SET VINTAGE \", \"POSTAGE\"], [\"REGENCY CAKESTAND 3 TIER\", \"POSTAGE\"], [\"POSTAGE\", \"REGENCY CAKESTAND 3 TIER\"], [\"POSTAGE\", \"SPACEBOY LUNCH BOX \"], [\"SPACEBOY LUNCH BOX \", \"POSTAGE\"], [\"LUNCH BAG SPACEBOY DESIGN \", \"POSTAGE\"], [\"POSTAGE\", \"LUNCH BAG SPACEBOY DESIGN \"], [\"DOLLY GIRL LUNCH BOX\", \"POSTAGE\"], [\"POSTAGE\", \"DOLLY GIRL LUNCH BOX\"]], \"hoverlabel\": {\"namelength\": 0}, \"hovertemplate\": \"support=%{x}<br>confidence=%{y}<br>antecedents=%{customdata[0]}<br>consequents=%{customdata[1]}<br>antecedents_short=%{text}<br>lift=%{marker.color}\", \"legendgroup\": \"\", \"marker\": {\"color\": [10.57, 10.57, 9.9, 9.9, 9.73, 9.73, 9.03, 9.03, 8.99, 8.99, 8.94, 8.94, 8.78, 8.78, 8.57, 8.57, 8.32, 8.32, 8.28, 8.28, 8.2, 8.2, 8.13, 8.13, 8.02, 8.02, 8.02, 8.02, 7.2, 7.2, 7.15, 7.15, 7.09, 7.09, 7.09, 7.09, 7.08, 7.08, 6.97, 6.97, 6.59, 6.59, 6.57, 6.57, 6.55, 6.55, 6.36, 6.36, 5.13, 5.13, 5.12, 5.12, 5.05, 5.05, 4.44, 4.44, 4.37, 4.37, 4.19, 4.19, 4.14, 4.14, 4.05, 4.05, 3.91, 3.91, 1.48, 1.48, 1.4, 1.4, 1.39, 1.39, 1.36, 1.36, 1.34, 1.34, 1.34, 1.34, 1.3, 1.3, 1.3, 1.3, 1.28, 1.28, 1.28, 1.28, 1.28, 1.28, 1.26, 1.26, 1.26, 1.26, 1.26, 1.26, 1.25, 1.25, 1.25, 1.25, 1.25, 1.25, 1.25, 1.25, 1.24, 1.24, 1.23, 1.23, 1.22, 1.22, 1.22, 1.22, 1.22, 1.22, 1.22, 1.22, 1.22, 1.22, 1.22, 1.22, 1.21, 1.21, 1.21, 1.21, 1.19, 1.19, 1.19, 1.19, 1.19, 1.19, 1.17, 1.17, 1.17, 1.17, 1.16, 1.16, 1.15, 1.15, 1.15, 1.15, 1.11, 1.11, 1.07, 1.07], \"coloraxis\": \"coloraxis\", \"opacity\": 0.5, \"symbol\": \"circle\"}, \"mode\": \"markers+text\", \"name\": \"\", \"showlegend\": false, \"text\": [\"POSTAGE\", \"ALARM CLOC\", \"ALARM CLOC\", \"ALARM CLOC\", \"POSTAGE\", \"ALARM CLOC\", \"ALARM CLOC\", \"ALARM CLOC\", \"SET/6 RED \", \"SET/20 RED\", \"POSTAGE\", \"SET/6 RED \", \"SET/20 RED\", \"POSTAGE\", \"ALARM CLOC\", \"ALARM CLOC\", \"SET/6 RED \", \"SET/20 RED\", \"POSTAGE\", \"SET/6 RED \", \"SET/6 RED \", \"SET/6 RED \", \"POSTAGE\", \"SET/6 RED \", \"SET/20 RED\", \"POSTAGE\", \"SET/6 RED \", \"POSTAGE\", \"SET/20 RED\", \"SET/6 RED \", \"POSTAGE\", \"SET/6 RED \", \"POSTAGE\", \"SET/20 RED\", \"SET/20 RED\", \"SET/6 RED \", \"POSTAGE\", \"SET/6 RED \", \"POSTAGE\", \"SET/20 RED\", \"SPACEBOY L\", \"DOLLY GIRL\", \"SET/20 RED\", \"SET/6 RED \", \"POSTAGE\", \"SET/6 RED \", \"SET/20 RED\", \"POSTAGE\", \"PLASTERS I\", \"PLASTERS I\", \"POSTAGE\", \"PLASTERS I\", \"PLASTERS I\", \"POSTAGE\", \"PLASTERS I\", \"PLASTERS I\", \"PLASTERS I\", \"POSTAGE\", \"PLASTERS I\", \"POSTAGE\", \"POSTAGE\", \"PLASTERS I\", \"PLASTERS I\", \"PLASTERS I\", \"POSTAGE\", \"PLASTERS I\", \"POSTAGE\", \"JUMBO BAG \", \"POSTAGE\", \"TEA PARTY \", \"POSTAGE\", \"STRAWBERRY\", \"ALARM CLOC\", \"POSTAGE\", \"ROUND SNAC\", \"POSTAGE\", \"ALARM CLOC\", \"POSTAGE\", \"ALARM CLOC\", \"POSTAGE\", \"PAPER BUNT\", \"POSTAGE\", \"POSTAGE\", \"RABBIT NIG\", \"POSTAGE\", \"RED TOADST\", \"ROUND SNAC\", \"POSTAGE\", \"POSTAGE\", \"PLASTERS I\", \"SET/6 RED \", \"POSTAGE\", \"POSTAGE\", \"LUNCH BAG \", \"POSTAGE\", \"ALARM CLOC\", \"JUMBO BAG \", \"POSTAGE\", \"RED RETROS\", \"POSTAGE\", \"POSTAGE\", \"SET/6 RED \", \"SET/6 RED \", \"POSTAGE\", \"SET/20 RED\", \"POSTAGE\", \"POSTAGE\", \"PACK OF 72\", \"PLASTERS I\", \"SET/20 RED\", \"POSTAGE\", \"SET/20 RED\", \"POSTAGE\", \"POSTAGE\", \"SET/20 RED\", \"POSTAGE\", \"POSTAGE\", \"LUNCH BAG \", \"RED RETROS\", \"PLASTERS I\", \"POSTAGE\", \"POSTAGE\", \"PLASTERS I\", \"POSTAGE\", \"PLASTERS I\", \"POSTAGE\", \"PLASTERS I\", \"POSTAGE\", \"LUNCH BOX \", \"POSTAGE\", \"LUNCH BAG \", \"POSTAGE\", \"POSTAGE\", \"MINI PAINT\", \"REGENCY CA\", \"POSTAGE\", \"POSTAGE\", \"SPACEBOY L\", \"LUNCH BAG \", \"POSTAGE\", \"DOLLY GIRL\", \"POSTAGE\"], \"textposition\": \"top center\", \"type\": \"scatter\", \"x\": [0.06, 0.06, 0.07, 0.07, 0.06, 0.06, 0.06, 0.06, 0.08, 0.08, 0.07, 0.07, 0.07, 0.07, 0.06, 0.06, 0.08, 0.08, 0.07, 0.07, 0.1, 0.1, 0.09, 0.09, 0.07, 0.07, 0.09, 0.09, 0.08, 0.08, 0.07, 0.07, 0.07, 0.09, 0.07, 0.09, 0.07, 0.07, 0.07, 0.07, 0.06, 0.06, 0.09, 0.09, 0.07, 0.07, 0.07, 0.07, 0.09, 0.09, 0.07, 0.07, 0.07, 0.07, 0.08, 0.08, 0.06, 0.06, 0.06, 0.06, 0.07, 0.07, 0.09, 0.09, 0.07, 0.07, 0.07, 0.07, 0.08, 0.08, 0.1, 0.1, 0.07, 0.07, 0.13, 0.13, 0.06, 0.06, 0.08, 0.08, 0.06, 0.06, 0.14, 0.14, 0.13, 0.13, 0.08, 0.08, 0.13, 0.13, 0.1, 0.1, 0.09, 0.09, 0.07, 0.07, 0.07, 0.07, 0.07, 0.07, 0.09, 0.09, 0.09, 0.09, 0.09, 0.09, 0.07, 0.07, 0.07, 0.07, 0.07, 0.07, 0.07, 0.07, 0.07, 0.07, 0.09, 0.09, 0.1, 0.1, 0.1, 0.1, 0.12, 0.12, 0.06, 0.06, 0.07, 0.07, 0.1, 0.1, 0.1, 0.1, 0.07, 0.07, 0.09, 0.09, 0.08, 0.08, 0.08, 0.08, 0.06, 0.06], \"xaxis\": \"x\", \"y\": [0.85, 0.76, 0.84, 0.79, 0.82, 0.72, 0.78, 0.73, 0.78, 0.98, 0.97, 0.64, 0.8, 0.76, 0.74, 0.73, 0.72, 0.98, 0.97, 0.59, 0.96, 0.89, 0.95, 0.74, 0.8, 0.7, 0.8, 0.87, 0.75, 0.81, 0.74, 0.67, 0.8, 0.77, 0.62, 0.8, 0.77, 0.66, 0.79, 0.63, 0.57, 0.7, 0.77, 0.74, 0.77, 0.61, 0.63, 0.72, 0.75, 0.61, 0.61, 0.6, 0.49, 0.73, 0.65, 0.53, 0.43, 0.64, 0.53, 0.5, 0.61, 0.49, 0.6, 0.59, 0.57, 0.49, 0.1, 1.0, 0.11, 0.95, 0.14, 0.94, 0.92, 0.11, 0.91, 0.19, 0.9, 0.09, 0.88, 0.11, 0.87, 0.09, 0.21, 0.87, 0.2, 0.86, 0.86, 0.12, 0.19, 0.85, 0.85, 0.15, 0.13, 0.85, 0.11, 0.85, 0.84, 0.1, 0.84, 0.1, 0.14, 0.84, 0.83, 0.13, 0.83, 0.14, 0.11, 0.82, 0.82, 0.82, 0.11, 0.82, 0.11, 0.11, 0.82, 0.1, 0.13, 0.82, 0.82, 0.82, 0.14, 0.14, 0.81, 0.17, 0.81, 0.09, 0.8, 0.11, 0.79, 0.14, 0.79, 0.15, 0.1, 0.78, 0.78, 0.14, 0.12, 0.78, 0.75, 0.12, 0.73, 0.09], \"yaxis\": \"y\"}],\n",
       "                        {\"coloraxis\": {\"colorbar\": {\"title\": {\"text\": \"lift\"}}, \"colorscale\": [[0.0, \"#0d0887\"], [0.1111111111111111, \"#46039f\"], [0.2222222222222222, \"#7201a8\"], [0.3333333333333333, \"#9c179e\"], [0.4444444444444444, \"#bd3786\"], [0.5555555555555556, \"#d8576b\"], [0.6666666666666666, \"#ed7953\"], [0.7777777777777778, \"#fb9f3a\"], [0.8888888888888888, \"#fdca26\"], [1.0, \"#f0f921\"]]}, \"height\": 800, \"legend\": {\"tracegroupgap\": 0}, \"margin\": {\"t\": 60}, \"plot_bgcolor\": \"rgb(240,240,240)\", \"template\": {\"data\": {\"bar\": [{\"error_x\": {\"color\": \"#2a3f5f\"}, \"error_y\": {\"color\": \"#2a3f5f\"}, \"marker\": {\"line\": {\"color\": \"#E5ECF6\", \"width\": 0.5}}, \"type\": \"bar\"}], \"barpolar\": [{\"marker\": {\"line\": {\"color\": \"#E5ECF6\", \"width\": 0.5}}, \"type\": \"barpolar\"}], \"carpet\": [{\"aaxis\": {\"endlinecolor\": \"#2a3f5f\", \"gridcolor\": \"white\", \"linecolor\": \"white\", \"minorgridcolor\": \"white\", \"startlinecolor\": \"#2a3f5f\"}, \"baxis\": {\"endlinecolor\": \"#2a3f5f\", \"gridcolor\": \"white\", \"linecolor\": \"white\", \"minorgridcolor\": \"white\", \"startlinecolor\": \"#2a3f5f\"}, \"type\": \"carpet\"}], \"choropleth\": [{\"colorbar\": {\"outlinewidth\": 0, \"ticks\": \"\"}, \"type\": \"choropleth\"}], \"contour\": [{\"colorbar\": {\"outlinewidth\": 0, \"ticks\": \"\"}, \"colorscale\": [[0.0, \"#0d0887\"], [0.1111111111111111, \"#46039f\"], [0.2222222222222222, \"#7201a8\"], [0.3333333333333333, \"#9c179e\"], [0.4444444444444444, \"#bd3786\"], [0.5555555555555556, \"#d8576b\"], [0.6666666666666666, \"#ed7953\"], [0.7777777777777778, \"#fb9f3a\"], [0.8888888888888888, \"#fdca26\"], [1.0, \"#f0f921\"]], \"type\": \"contour\"}], \"contourcarpet\": [{\"colorbar\": {\"outlinewidth\": 0, \"ticks\": \"\"}, \"type\": \"contourcarpet\"}], \"heatmap\": [{\"colorbar\": {\"outlinewidth\": 0, \"ticks\": \"\"}, \"colorscale\": [[0.0, \"#0d0887\"], [0.1111111111111111, \"#46039f\"], [0.2222222222222222, \"#7201a8\"], [0.3333333333333333, \"#9c179e\"], [0.4444444444444444, \"#bd3786\"], [0.5555555555555556, \"#d8576b\"], [0.6666666666666666, \"#ed7953\"], [0.7777777777777778, \"#fb9f3a\"], [0.8888888888888888, \"#fdca26\"], [1.0, \"#f0f921\"]], \"type\": \"heatmap\"}], \"heatmapgl\": [{\"colorbar\": {\"outlinewidth\": 0, \"ticks\": \"\"}, \"colorscale\": [[0.0, \"#0d0887\"], [0.1111111111111111, \"#46039f\"], [0.2222222222222222, \"#7201a8\"], [0.3333333333333333, \"#9c179e\"], [0.4444444444444444, \"#bd3786\"], [0.5555555555555556, \"#d8576b\"], [0.6666666666666666, \"#ed7953\"], [0.7777777777777778, \"#fb9f3a\"], [0.8888888888888888, \"#fdca26\"], [1.0, \"#f0f921\"]], \"type\": \"heatmapgl\"}], \"histogram\": [{\"marker\": {\"colorbar\": {\"outlinewidth\": 0, \"ticks\": \"\"}}, \"type\": \"histogram\"}], \"histogram2d\": [{\"colorbar\": {\"outlinewidth\": 0, \"ticks\": \"\"}, \"colorscale\": [[0.0, \"#0d0887\"], [0.1111111111111111, \"#46039f\"], [0.2222222222222222, \"#7201a8\"], [0.3333333333333333, \"#9c179e\"], [0.4444444444444444, \"#bd3786\"], [0.5555555555555556, \"#d8576b\"], [0.6666666666666666, \"#ed7953\"], [0.7777777777777778, \"#fb9f3a\"], [0.8888888888888888, \"#fdca26\"], [1.0, \"#f0f921\"]], \"type\": \"histogram2d\"}], \"histogram2dcontour\": [{\"colorbar\": {\"outlinewidth\": 0, \"ticks\": \"\"}, \"colorscale\": [[0.0, \"#0d0887\"], [0.1111111111111111, \"#46039f\"], [0.2222222222222222, \"#7201a8\"], [0.3333333333333333, \"#9c179e\"], [0.4444444444444444, \"#bd3786\"], [0.5555555555555556, \"#d8576b\"], [0.6666666666666666, \"#ed7953\"], [0.7777777777777778, \"#fb9f3a\"], [0.8888888888888888, \"#fdca26\"], [1.0, \"#f0f921\"]], \"type\": \"histogram2dcontour\"}], \"mesh3d\": [{\"colorbar\": {\"outlinewidth\": 0, \"ticks\": \"\"}, \"type\": \"mesh3d\"}], \"parcoords\": [{\"line\": {\"colorbar\": {\"outlinewidth\": 0, \"ticks\": \"\"}}, \"type\": \"parcoords\"}], \"pie\": [{\"automargin\": true, \"type\": \"pie\"}], \"scatter\": [{\"marker\": {\"colorbar\": {\"outlinewidth\": 0, \"ticks\": \"\"}}, \"type\": \"scatter\"}], \"scatter3d\": [{\"line\": {\"colorbar\": {\"outlinewidth\": 0, \"ticks\": \"\"}}, \"marker\": {\"colorbar\": {\"outlinewidth\": 0, \"ticks\": \"\"}}, \"type\": \"scatter3d\"}], \"scattercarpet\": [{\"marker\": {\"colorbar\": {\"outlinewidth\": 0, \"ticks\": \"\"}}, \"type\": \"scattercarpet\"}], \"scattergeo\": [{\"marker\": {\"colorbar\": {\"outlinewidth\": 0, \"ticks\": \"\"}}, \"type\": \"scattergeo\"}], \"scattergl\": [{\"marker\": {\"colorbar\": {\"outlinewidth\": 0, \"ticks\": \"\"}}, \"type\": \"scattergl\"}], \"scattermapbox\": [{\"marker\": {\"colorbar\": {\"outlinewidth\": 0, \"ticks\": \"\"}}, \"type\": \"scattermapbox\"}], \"scatterpolar\": [{\"marker\": {\"colorbar\": {\"outlinewidth\": 0, \"ticks\": \"\"}}, \"type\": \"scatterpolar\"}], \"scatterpolargl\": [{\"marker\": {\"colorbar\": {\"outlinewidth\": 0, \"ticks\": \"\"}}, \"type\": \"scatterpolargl\"}], \"scatterternary\": [{\"marker\": {\"colorbar\": {\"outlinewidth\": 0, \"ticks\": \"\"}}, \"type\": \"scatterternary\"}], \"surface\": [{\"colorbar\": {\"outlinewidth\": 0, \"ticks\": \"\"}, \"colorscale\": [[0.0, \"#0d0887\"], [0.1111111111111111, \"#46039f\"], [0.2222222222222222, \"#7201a8\"], [0.3333333333333333, \"#9c179e\"], [0.4444444444444444, \"#bd3786\"], [0.5555555555555556, \"#d8576b\"], [0.6666666666666666, \"#ed7953\"], [0.7777777777777778, \"#fb9f3a\"], [0.8888888888888888, \"#fdca26\"], [1.0, \"#f0f921\"]], \"type\": \"surface\"}], \"table\": [{\"cells\": {\"fill\": {\"color\": \"#EBF0F8\"}, \"line\": {\"color\": \"white\"}}, \"header\": {\"fill\": {\"color\": \"#C8D4E3\"}, \"line\": {\"color\": \"white\"}}, \"type\": \"table\"}]}, \"layout\": {\"annotationdefaults\": {\"arrowcolor\": \"#2a3f5f\", \"arrowhead\": 0, \"arrowwidth\": 1}, \"coloraxis\": {\"colorbar\": {\"outlinewidth\": 0, \"ticks\": \"\"}}, \"colorscale\": {\"diverging\": [[0, \"#8e0152\"], [0.1, \"#c51b7d\"], [0.2, \"#de77ae\"], [0.3, \"#f1b6da\"], [0.4, \"#fde0ef\"], [0.5, \"#f7f7f7\"], [0.6, \"#e6f5d0\"], [0.7, \"#b8e186\"], [0.8, \"#7fbc41\"], [0.9, \"#4d9221\"], [1, \"#276419\"]], \"sequential\": [[0.0, \"#0d0887\"], [0.1111111111111111, \"#46039f\"], [0.2222222222222222, \"#7201a8\"], [0.3333333333333333, \"#9c179e\"], [0.4444444444444444, \"#bd3786\"], [0.5555555555555556, \"#d8576b\"], [0.6666666666666666, \"#ed7953\"], [0.7777777777777778, \"#fb9f3a\"], [0.8888888888888888, \"#fdca26\"], [1.0, \"#f0f921\"]], \"sequentialminus\": [[0.0, \"#0d0887\"], [0.1111111111111111, \"#46039f\"], [0.2222222222222222, \"#7201a8\"], [0.3333333333333333, \"#9c179e\"], [0.4444444444444444, \"#bd3786\"], [0.5555555555555556, \"#d8576b\"], [0.6666666666666666, \"#ed7953\"], [0.7777777777777778, \"#fb9f3a\"], [0.8888888888888888, \"#fdca26\"], [1.0, \"#f0f921\"]]}, \"colorway\": [\"#636efa\", \"#EF553B\", \"#00cc96\", \"#ab63fa\", \"#FFA15A\", \"#19d3f3\", \"#FF6692\", \"#B6E880\", \"#FF97FF\", \"#FECB52\"], \"font\": {\"color\": \"#2a3f5f\"}, \"geo\": {\"bgcolor\": \"white\", \"lakecolor\": \"white\", \"landcolor\": \"#E5ECF6\", \"showlakes\": true, \"showland\": true, \"subunitcolor\": \"white\"}, \"hoverlabel\": {\"align\": \"left\"}, \"hovermode\": \"closest\", \"mapbox\": {\"style\": \"light\"}, \"paper_bgcolor\": \"white\", \"plot_bgcolor\": \"#E5ECF6\", \"polar\": {\"angularaxis\": {\"gridcolor\": \"white\", \"linecolor\": \"white\", \"ticks\": \"\"}, \"bgcolor\": \"#E5ECF6\", \"radialaxis\": {\"gridcolor\": \"white\", \"linecolor\": \"white\", \"ticks\": \"\"}}, \"scene\": {\"xaxis\": {\"backgroundcolor\": \"#E5ECF6\", \"gridcolor\": \"white\", \"gridwidth\": 2, \"linecolor\": \"white\", \"showbackground\": true, \"ticks\": \"\", \"zerolinecolor\": \"white\"}, \"yaxis\": {\"backgroundcolor\": \"#E5ECF6\", \"gridcolor\": \"white\", \"gridwidth\": 2, \"linecolor\": \"white\", \"showbackground\": true, \"ticks\": \"\", \"zerolinecolor\": \"white\"}, \"zaxis\": {\"backgroundcolor\": \"#E5ECF6\", \"gridcolor\": \"white\", \"gridwidth\": 2, \"linecolor\": \"white\", \"showbackground\": true, \"ticks\": \"\", \"zerolinecolor\": \"white\"}}, \"shapedefaults\": {\"line\": {\"color\": \"#2a3f5f\"}}, \"ternary\": {\"aaxis\": {\"gridcolor\": \"white\", \"linecolor\": \"white\", \"ticks\": \"\"}, \"baxis\": {\"gridcolor\": \"white\", \"linecolor\": \"white\", \"ticks\": \"\"}, \"bgcolor\": \"#E5ECF6\", \"caxis\": {\"gridcolor\": \"white\", \"linecolor\": \"white\", \"ticks\": \"\"}}, \"title\": {\"x\": 0.05}, \"xaxis\": {\"automargin\": true, \"gridcolor\": \"white\", \"linecolor\": \"white\", \"ticks\": \"\", \"title\": {\"standoff\": 15}, \"zerolinecolor\": \"white\", \"zerolinewidth\": 2}, \"yaxis\": {\"automargin\": true, \"gridcolor\": \"white\", \"linecolor\": \"white\", \"ticks\": \"\", \"title\": {\"standoff\": 15}, \"zerolinecolor\": \"white\", \"zerolinewidth\": 2}}}, \"title\": {\"text\": \"2D Plot of Support, Confidence and Lift\"}, \"xaxis\": {\"anchor\": \"y\", \"domain\": [0.0, 1.0], \"title\": {\"text\": \"support\"}, \"type\": \"log\"}, \"yaxis\": {\"anchor\": \"x\", \"domain\": [0.0, 1.0], \"title\": {\"text\": \"confidence\"}}},\n",
       "                        {\"responsive\": true}\n",
       "                    ).then(function(){\n",
       "                            \n",
       "var gd = document.getElementById('5cb94346-f508-4548-8d5e-3b627873297a');\n",
       "var x = new MutationObserver(function (mutations, observer) {{\n",
       "        var display = window.getComputedStyle(gd).display;\n",
       "        if (!display || display === 'none') {{\n",
       "            console.log([gd, 'removed!']);\n",
       "            Plotly.purge(gd);\n",
       "            observer.disconnect();\n",
       "        }}\n",
       "}});\n",
       "\n",
       "// Listen for the removal of the full notebook cells\n",
       "var notebookContainer = gd.closest('#notebook-container');\n",
       "if (notebookContainer) {{\n",
       "    x.observe(notebookContainer, {childList: true});\n",
       "}}\n",
       "\n",
       "// Listen for the clearing of the current output cell\n",
       "var outputEl = gd.closest('.output');\n",
       "if (outputEl) {{\n",
       "    x.observe(outputEl, {childList: true});\n",
       "}}\n",
       "\n",
       "                        })\n",
       "                };\n",
       "                });\n",
       "            </script>\n",
       "        </div>"
      ]
     },
     "metadata": {},
     "output_type": "display_data"
    }
   ],
   "source": [
    "plot_model(model1)"
   ]
  },
  {
   "cell_type": "code",
   "execution_count": 10,
   "metadata": {},
   "outputs": [
    {
     "data": {
      "text/html": [
       "        <script type=\"text/javascript\">\n",
       "        window.PlotlyConfig = {MathJaxConfig: 'local'};\n",
       "        if (window.MathJax) {MathJax.Hub.Config({SVG: {font: \"STIX-Web\"}});}\n",
       "        if (typeof require !== 'undefined') {\n",
       "        require.undef(\"plotly\");\n",
       "        requirejs.config({\n",
       "            paths: {\n",
       "                'plotly': ['https://cdn.plot.ly/plotly-latest.min']\n",
       "            }\n",
       "        });\n",
       "        require(['plotly'], function(Plotly) {\n",
       "            window._Plotly = Plotly;\n",
       "        });\n",
       "        }\n",
       "        </script>\n",
       "        "
      ]
     },
     "metadata": {},
     "output_type": "display_data"
    },
    {
     "data": {
      "application/vnd.plotly.v1+json": {
       "config": {
        "plotlyServerURL": "https://plot.ly"
       },
       "data": [
        {
         "customdata": [
          [
           "POSTAGE",
           "ALARM CLOCK BAKELIKE RED "
          ],
          [
           "ALARM CLOCK BAKELIKE RED ",
           "POSTAGE"
          ],
          [
           "ALARM CLOCK BAKELIKE RED ",
           "ALARM CLOCK BAKELIKE GREEN"
          ],
          [
           "ALARM CLOCK BAKELIKE GREEN",
           "ALARM CLOCK BAKELIKE RED "
          ],
          [
           "POSTAGE",
           "ALARM CLOCK BAKELIKE GREEN"
          ],
          [
           "ALARM CLOCK BAKELIKE GREEN",
           "POSTAGE"
          ],
          [
           "ALARM CLOCK BAKELIKE RED ",
           "ALARM CLOCK BAKELIKE PINK"
          ],
          [
           "ALARM CLOCK BAKELIKE PINK",
           "ALARM CLOCK BAKELIKE RED "
          ],
          [
           "SET/6 RED SPOTTY PAPER PLATES",
           "SET/20 RED RETROSPOT PAPER NAPKINS "
          ],
          [
           "SET/20 RED RETROSPOT PAPER NAPKINS ",
           "SET/6 RED SPOTTY PAPER PLATES"
          ],
          [
           "POSTAGE",
           "SET/6 RED SPOTTY PAPER PLATES"
          ],
          [
           "SET/6 RED SPOTTY PAPER PLATES",
           "POSTAGE"
          ],
          [
           "SET/20 RED RETROSPOT PAPER NAPKINS ",
           "POSTAGE"
          ],
          [
           "POSTAGE",
           "SET/20 RED RETROSPOT PAPER NAPKINS "
          ],
          [
           "ALARM CLOCK BAKELIKE GREEN",
           "ALARM CLOCK BAKELIKE PINK"
          ],
          [
           "ALARM CLOCK BAKELIKE PINK",
           "ALARM CLOCK BAKELIKE GREEN"
          ],
          [
           "SET/6 RED SPOTTY PAPER CUPS",
           "SET/20 RED RETROSPOT PAPER NAPKINS "
          ],
          [
           "SET/20 RED RETROSPOT PAPER NAPKINS ",
           "SET/6 RED SPOTTY PAPER CUPS"
          ],
          [
           "POSTAGE",
           "SET/6 RED SPOTTY PAPER CUPS"
          ],
          [
           "SET/6 RED SPOTTY PAPER CUPS",
           "POSTAGE"
          ],
          [
           "SET/6 RED SPOTTY PAPER PLATES",
           "SET/6 RED SPOTTY PAPER CUPS"
          ],
          [
           "SET/6 RED SPOTTY PAPER CUPS",
           "SET/6 RED SPOTTY PAPER PLATES"
          ],
          [
           "POSTAGE",
           "SET/6 RED SPOTTY PAPER CUPS"
          ],
          [
           "SET/6 RED SPOTTY PAPER CUPS",
           "POSTAGE"
          ],
          [
           "SET/20 RED RETROSPOT PAPER NAPKINS ",
           "POSTAGE"
          ],
          [
           "POSTAGE",
           "SET/20 RED RETROSPOT PAPER NAPKINS "
          ],
          [
           "SET/6 RED SPOTTY PAPER PLATES",
           "POSTAGE"
          ],
          [
           "POSTAGE",
           "SET/6 RED SPOTTY PAPER PLATES"
          ],
          [
           "SET/20 RED RETROSPOT PAPER NAPKINS ",
           "SET/6 RED SPOTTY PAPER CUPS"
          ],
          [
           "SET/6 RED SPOTTY PAPER CUPS",
           "SET/20 RED RETROSPOT PAPER NAPKINS "
          ],
          [
           "POSTAGE",
           "SET/6 RED SPOTTY PAPER CUPS"
          ],
          [
           "SET/6 RED SPOTTY PAPER CUPS",
           "POSTAGE"
          ],
          [
           "POSTAGE",
           "SET/20 RED RETROSPOT PAPER NAPKINS "
          ],
          [
           "SET/20 RED RETROSPOT PAPER NAPKINS ",
           "SET/6 RED SPOTTY PAPER PLATES"
          ],
          [
           "SET/20 RED RETROSPOT PAPER NAPKINS ",
           "POSTAGE"
          ],
          [
           "SET/6 RED SPOTTY PAPER PLATES",
           "SET/20 RED RETROSPOT PAPER NAPKINS "
          ],
          [
           "POSTAGE",
           "SET/6 RED SPOTTY PAPER PLATES"
          ],
          [
           "SET/6 RED SPOTTY PAPER PLATES",
           "POSTAGE"
          ],
          [
           "POSTAGE",
           "SET/20 RED RETROSPOT PAPER NAPKINS "
          ],
          [
           "SET/20 RED RETROSPOT PAPER NAPKINS ",
           "POSTAGE"
          ],
          [
           "SPACEBOY LUNCH BOX ",
           "DOLLY GIRL LUNCH BOX"
          ],
          [
           "DOLLY GIRL LUNCH BOX",
           "SPACEBOY LUNCH BOX "
          ],
          [
           "SET/20 RED RETROSPOT PAPER NAPKINS ",
           "SET/6 RED SPOTTY PAPER CUPS"
          ],
          [
           "SET/6 RED SPOTTY PAPER CUPS",
           "SET/20 RED RETROSPOT PAPER NAPKINS "
          ],
          [
           "POSTAGE",
           "SET/6 RED SPOTTY PAPER CUPS"
          ],
          [
           "SET/6 RED SPOTTY PAPER CUPS",
           "POSTAGE"
          ],
          [
           "SET/20 RED RETROSPOT PAPER NAPKINS ",
           "POSTAGE"
          ],
          [
           "POSTAGE",
           "SET/20 RED RETROSPOT PAPER NAPKINS "
          ],
          [
           "PLASTERS IN TIN SPACEBOY",
           "PLASTERS IN TIN WOODLAND ANIMALS"
          ],
          [
           "PLASTERS IN TIN WOODLAND ANIMALS",
           "PLASTERS IN TIN SPACEBOY"
          ],
          [
           "POSTAGE",
           "PLASTERS IN TIN SPACEBOY"
          ],
          [
           "PLASTERS IN TIN SPACEBOY",
           "POSTAGE"
          ],
          [
           "PLASTERS IN TIN WOODLAND ANIMALS",
           "POSTAGE"
          ],
          [
           "POSTAGE",
           "PLASTERS IN TIN WOODLAND ANIMALS"
          ],
          [
           "PLASTERS IN TIN SPACEBOY",
           "PLASTERS IN TIN CIRCUS PARADE "
          ],
          [
           "PLASTERS IN TIN CIRCUS PARADE ",
           "PLASTERS IN TIN SPACEBOY"
          ],
          [
           "PLASTERS IN TIN CIRCUS PARADE ",
           "POSTAGE"
          ],
          [
           "POSTAGE",
           "PLASTERS IN TIN CIRCUS PARADE "
          ],
          [
           "PLASTERS IN TIN SPACEBOY",
           "POSTAGE"
          ],
          [
           "POSTAGE",
           "PLASTERS IN TIN SPACEBOY"
          ],
          [
           "POSTAGE",
           "PLASTERS IN TIN CIRCUS PARADE "
          ],
          [
           "PLASTERS IN TIN CIRCUS PARADE ",
           "POSTAGE"
          ],
          [
           "PLASTERS IN TIN WOODLAND ANIMALS",
           "PLASTERS IN TIN CIRCUS PARADE "
          ],
          [
           "PLASTERS IN TIN CIRCUS PARADE ",
           "PLASTERS IN TIN WOODLAND ANIMALS"
          ],
          [
           "POSTAGE",
           "PLASTERS IN TIN WOODLAND ANIMALS"
          ],
          [
           "PLASTERS IN TIN WOODLAND ANIMALS",
           "POSTAGE"
          ],
          [
           "POSTAGE",
           "JUMBO BAG WOODLAND ANIMALS"
          ],
          [
           "JUMBO BAG WOODLAND ANIMALS",
           "POSTAGE"
          ],
          [
           "POSTAGE",
           "TEA PARTY BIRTHDAY CARD"
          ],
          [
           "TEA PARTY BIRTHDAY CARD",
           "POSTAGE"
          ],
          [
           "POSTAGE",
           "STRAWBERRY LUNCH BOX WITH CUTLERY"
          ],
          [
           "STRAWBERRY LUNCH BOX WITH CUTLERY",
           "POSTAGE"
          ],
          [
           "ALARM CLOCK BAKELIKE RED ",
           "POSTAGE"
          ],
          [
           "POSTAGE",
           "ALARM CLOCK BAKELIKE RED "
          ],
          [
           "ROUND SNACK BOXES SET OF4 WOODLAND ",
           "POSTAGE"
          ],
          [
           "POSTAGE",
           "ROUND SNACK BOXES SET OF4 WOODLAND "
          ],
          [
           "ALARM CLOCK BAKELIKE RED ",
           "POSTAGE"
          ],
          [
           "POSTAGE",
           "ALARM CLOCK BAKELIKE RED "
          ],
          [
           "ALARM CLOCK BAKELIKE PINK",
           "POSTAGE"
          ],
          [
           "POSTAGE",
           "ALARM CLOCK BAKELIKE PINK"
          ],
          [
           "PAPER BUNTING RETROSPOT",
           "POSTAGE"
          ],
          [
           "POSTAGE",
           "PAPER BUNTING RETROSPOT"
          ],
          [
           "POSTAGE",
           "RABBIT NIGHT LIGHT"
          ],
          [
           "RABBIT NIGHT LIGHT",
           "POSTAGE"
          ],
          [
           "POSTAGE",
           "RED TOADSTOOL LED NIGHT LIGHT"
          ],
          [
           "RED TOADSTOOL LED NIGHT LIGHT",
           "POSTAGE"
          ],
          [
           "ROUND SNACK BOXES SET OF 4 FRUITS ",
           "POSTAGE"
          ],
          [
           "POSTAGE",
           "ROUND SNACK BOXES SET OF 4 FRUITS "
          ],
          [
           "POSTAGE",
           "PLASTERS IN TIN CIRCUS PARADE "
          ],
          [
           "PLASTERS IN TIN CIRCUS PARADE ",
           "POSTAGE"
          ],
          [
           "SET/6 RED SPOTTY PAPER CUPS",
           "POSTAGE"
          ],
          [
           "POSTAGE",
           "SET/6 RED SPOTTY PAPER CUPS"
          ],
          [
           "POSTAGE",
           "LUNCH BAG WOODLAND"
          ],
          [
           "LUNCH BAG WOODLAND",
           "POSTAGE"
          ],
          [
           "POSTAGE",
           "ALARM CLOCK BAKELIKE GREEN"
          ],
          [
           "ALARM CLOCK BAKELIKE GREEN",
           "POSTAGE"
          ],
          [
           "JUMBO BAG RED RETROSPOT",
           "POSTAGE"
          ],
          [
           "POSTAGE",
           "RED RETROSPOT CHARLOTTE BAG"
          ],
          [
           "RED RETROSPOT CHARLOTTE BAG",
           "POSTAGE"
          ],
          [
           "POSTAGE",
           "JUMBO BAG RED RETROSPOT"
          ],
          [
           "POSTAGE",
           "SET/6 RED SPOTTY PAPER PLATES"
          ],
          [
           "SET/6 RED SPOTTY PAPER PLATES",
           "POSTAGE"
          ],
          [
           "SET/6 RED SPOTTY PAPER CUPS",
           "POSTAGE"
          ],
          [
           "POSTAGE",
           "SET/6 RED SPOTTY PAPER CUPS"
          ],
          [
           "SET/20 RED RETROSPOT PAPER NAPKINS ",
           "POSTAGE"
          ],
          [
           "POSTAGE",
           "SET/20 RED RETROSPOT PAPER NAPKINS "
          ],
          [
           "POSTAGE",
           "PACK OF 72 RETROSPOT CAKE CASES"
          ],
          [
           "PACK OF 72 RETROSPOT CAKE CASES",
           "POSTAGE"
          ],
          [
           "PLASTERS IN TIN CIRCUS PARADE ",
           "POSTAGE"
          ],
          [
           "SET/20 RED RETROSPOT PAPER NAPKINS ",
           "POSTAGE"
          ],
          [
           "POSTAGE",
           "SET/20 RED RETROSPOT PAPER NAPKINS "
          ],
          [
           "SET/20 RED RETROSPOT PAPER NAPKINS ",
           "POSTAGE"
          ],
          [
           "POSTAGE",
           "SET/20 RED RETROSPOT PAPER NAPKINS "
          ],
          [
           "POSTAGE",
           "PLASTERS IN TIN CIRCUS PARADE "
          ],
          [
           "SET/20 RED RETROSPOT PAPER NAPKINS ",
           "POSTAGE"
          ],
          [
           "POSTAGE",
           "SET/20 RED RETROSPOT PAPER NAPKINS "
          ],
          [
           "POSTAGE",
           "LUNCH BAG APPLE DESIGN"
          ],
          [
           "LUNCH BAG APPLE DESIGN",
           "POSTAGE"
          ],
          [
           "RED RETROSPOT MINI CASES",
           "POSTAGE"
          ],
          [
           "PLASTERS IN TIN SPACEBOY",
           "POSTAGE"
          ],
          [
           "POSTAGE",
           "PLASTERS IN TIN SPACEBOY"
          ],
          [
           "POSTAGE",
           "RED RETROSPOT MINI CASES"
          ],
          [
           "PLASTERS IN TIN WOODLAND ANIMALS",
           "POSTAGE"
          ],
          [
           "POSTAGE",
           "PLASTERS IN TIN WOODLAND ANIMALS"
          ],
          [
           "PLASTERS IN TIN CIRCUS PARADE ",
           "POSTAGE"
          ],
          [
           "POSTAGE",
           "PLASTERS IN TIN CIRCUS PARADE "
          ],
          [
           "PLASTERS IN TIN WOODLAND ANIMALS",
           "POSTAGE"
          ],
          [
           "POSTAGE",
           "PLASTERS IN TIN WOODLAND ANIMALS"
          ],
          [
           "LUNCH BOX WITH CUTLERY RETROSPOT ",
           "POSTAGE"
          ],
          [
           "POSTAGE",
           "LUNCH BOX WITH CUTLERY RETROSPOT "
          ],
          [
           "LUNCH BAG RED RETROSPOT",
           "POSTAGE"
          ],
          [
           "POSTAGE",
           "LUNCH BAG RED RETROSPOT"
          ],
          [
           "POSTAGE",
           "MINI PAINT SET VINTAGE "
          ],
          [
           "MINI PAINT SET VINTAGE ",
           "POSTAGE"
          ],
          [
           "REGENCY CAKESTAND 3 TIER",
           "POSTAGE"
          ],
          [
           "POSTAGE",
           "REGENCY CAKESTAND 3 TIER"
          ],
          [
           "POSTAGE",
           "SPACEBOY LUNCH BOX "
          ],
          [
           "SPACEBOY LUNCH BOX ",
           "POSTAGE"
          ],
          [
           "LUNCH BAG SPACEBOY DESIGN ",
           "POSTAGE"
          ],
          [
           "POSTAGE",
           "LUNCH BAG SPACEBOY DESIGN "
          ],
          [
           "DOLLY GIRL LUNCH BOX",
           "POSTAGE"
          ],
          [
           "POSTAGE",
           "DOLLY GIRL LUNCH BOX"
          ]
         ],
         "hoverlabel": {
          "namelength": 0
         },
         "hovertemplate": "support=%{x}<br>confidence=%{y}<br>lift=%{z}<br>antecedents=%{customdata[0]}<br>consequents=%{customdata[1]}<br>antecedent support=%{marker.color}",
         "legendgroup": "",
         "marker": {
          "color": [
           0.07,
           0.08,
           0.08,
           0.08,
           0.07,
           0.08,
           0.08,
           0.09,
           0.11,
           0.09,
           0.07,
           0.11,
           0.09,
           0.09,
           0.08,
           0.09,
           0.12,
           0.09,
           0.07,
           0.12,
           0.11,
           0.12,
           0.09,
           0.12,
           0.09,
           0.1,
           0.11,
           0.1,
           0.11,
           0.1,
           0.09,
           0.1,
           0.09,
           0.11,
           0.11,
           0.11,
           0.09,
           0.11,
           0.09,
           0.11,
           0.11,
           0.09,
           0.11,
           0.12,
           0.09,
           0.12,
           0.11,
           0.1,
           0.12,
           0.15,
           0.12,
           0.12,
           0.15,
           0.1,
           0.12,
           0.15,
           0.15,
           0.1,
           0.12,
           0.13,
           0.12,
           0.15,
           0.15,
           0.15,
           0.13,
           0.15,
           0.67,
           0.07,
           0.67,
           0.08,
           0.67,
           0.1,
           0.08,
           0.67,
           0.14,
           0.67,
           0.07,
           0.67,
           0.09,
           0.67,
           0.07,
           0.67,
           0.67,
           0.16,
           0.67,
           0.16,
           0.09,
           0.67,
           0.67,
           0.15,
           0.12,
           0.67,
           0.67,
           0.1,
           0.67,
           0.08,
           0.08,
           0.67,
           0.08,
           0.67,
           0.67,
           0.11,
           0.1,
           0.67,
           0.11,
           0.67,
           0.67,
           0.09,
           0.09,
           0.09,
           0.67,
           0.09,
           0.67,
           0.67,
           0.08,
           0.67,
           0.67,
           0.11,
           0.12,
           0.12,
           0.67,
           0.67,
           0.15,
           0.67,
           0.08,
           0.67,
           0.09,
           0.67,
           0.12,
           0.67,
           0.13,
           0.67,
           0.67,
           0.09,
           0.12,
           0.67,
           0.67,
           0.11,
           0.1,
           0.67,
           0.09,
           0.67
          ],
          "coloraxis": "coloraxis",
          "opacity": 0.7,
          "symbol": "circle"
         },
         "mode": "markers",
         "name": "",
         "scene": "scene",
         "showlegend": false,
         "type": "scatter3d",
         "x": [
          0.06,
          0.06,
          0.07,
          0.07,
          0.06,
          0.06,
          0.06,
          0.06,
          0.08,
          0.08,
          0.07,
          0.07,
          0.07,
          0.07,
          0.06,
          0.06,
          0.08,
          0.08,
          0.07,
          0.07,
          0.1,
          0.1,
          0.09,
          0.09,
          0.07,
          0.07,
          0.09,
          0.09,
          0.08,
          0.08,
          0.07,
          0.07,
          0.07,
          0.09,
          0.07,
          0.09,
          0.07,
          0.07,
          0.07,
          0.07,
          0.06,
          0.06,
          0.09,
          0.09,
          0.07,
          0.07,
          0.07,
          0.07,
          0.09,
          0.09,
          0.07,
          0.07,
          0.07,
          0.07,
          0.08,
          0.08,
          0.06,
          0.06,
          0.06,
          0.06,
          0.07,
          0.07,
          0.09,
          0.09,
          0.07,
          0.07,
          0.07,
          0.07,
          0.08,
          0.08,
          0.1,
          0.1,
          0.07,
          0.07,
          0.13,
          0.13,
          0.06,
          0.06,
          0.08,
          0.08,
          0.06,
          0.06,
          0.14,
          0.14,
          0.13,
          0.13,
          0.08,
          0.08,
          0.13,
          0.13,
          0.1,
          0.1,
          0.09,
          0.09,
          0.07,
          0.07,
          0.07,
          0.07,
          0.07,
          0.07,
          0.09,
          0.09,
          0.09,
          0.09,
          0.09,
          0.09,
          0.07,
          0.07,
          0.07,
          0.07,
          0.07,
          0.07,
          0.07,
          0.07,
          0.07,
          0.07,
          0.09,
          0.09,
          0.1,
          0.1,
          0.1,
          0.1,
          0.12,
          0.12,
          0.06,
          0.06,
          0.07,
          0.07,
          0.1,
          0.1,
          0.1,
          0.1,
          0.07,
          0.07,
          0.09,
          0.09,
          0.08,
          0.08,
          0.08,
          0.08,
          0.06,
          0.06
         ],
         "y": [
          0.85,
          0.76,
          0.84,
          0.79,
          0.82,
          0.72,
          0.78,
          0.73,
          0.78,
          0.98,
          0.97,
          0.64,
          0.8,
          0.76,
          0.74,
          0.73,
          0.72,
          0.98,
          0.97,
          0.59,
          0.96,
          0.89,
          0.95,
          0.74,
          0.8,
          0.7,
          0.8,
          0.87,
          0.75,
          0.81,
          0.74,
          0.67,
          0.8,
          0.77,
          0.62,
          0.8,
          0.77,
          0.66,
          0.79,
          0.63,
          0.57,
          0.7,
          0.77,
          0.74,
          0.77,
          0.61,
          0.63,
          0.72,
          0.75,
          0.61,
          0.61,
          0.6,
          0.49,
          0.73,
          0.65,
          0.53,
          0.43,
          0.64,
          0.53,
          0.5,
          0.61,
          0.49,
          0.6,
          0.59,
          0.57,
          0.49,
          0.1,
          1,
          0.11,
          0.95,
          0.14,
          0.94,
          0.92,
          0.11,
          0.91,
          0.19,
          0.9,
          0.09,
          0.88,
          0.11,
          0.87,
          0.09,
          0.21,
          0.87,
          0.2,
          0.86,
          0.86,
          0.12,
          0.19,
          0.85,
          0.85,
          0.15,
          0.13,
          0.85,
          0.11,
          0.85,
          0.84,
          0.1,
          0.84,
          0.1,
          0.14,
          0.84,
          0.83,
          0.13,
          0.83,
          0.14,
          0.11,
          0.82,
          0.82,
          0.82,
          0.11,
          0.82,
          0.11,
          0.11,
          0.82,
          0.1,
          0.13,
          0.82,
          0.82,
          0.82,
          0.14,
          0.14,
          0.81,
          0.17,
          0.81,
          0.09,
          0.8,
          0.11,
          0.79,
          0.14,
          0.79,
          0.15,
          0.1,
          0.78,
          0.78,
          0.14,
          0.12,
          0.78,
          0.75,
          0.12,
          0.73,
          0.09
         ],
         "z": [
          10.57,
          10.57,
          9.9,
          9.9,
          9.73,
          9.73,
          9.03,
          9.03,
          8.99,
          8.99,
          8.94,
          8.94,
          8.78,
          8.78,
          8.57,
          8.57,
          8.32,
          8.32,
          8.28,
          8.28,
          8.2,
          8.2,
          8.13,
          8.13,
          8.02,
          8.02,
          8.02,
          8.02,
          7.2,
          7.2,
          7.15,
          7.15,
          7.09,
          7.09,
          7.09,
          7.09,
          7.08,
          7.08,
          6.97,
          6.97,
          6.59,
          6.59,
          6.57,
          6.57,
          6.55,
          6.55,
          6.36,
          6.36,
          5.13,
          5.13,
          5.12,
          5.12,
          5.05,
          5.05,
          4.44,
          4.44,
          4.37,
          4.37,
          4.19,
          4.19,
          4.14,
          4.14,
          4.05,
          4.05,
          3.91,
          3.91,
          1.48,
          1.48,
          1.4,
          1.4,
          1.39,
          1.39,
          1.36,
          1.36,
          1.34,
          1.34,
          1.34,
          1.34,
          1.3,
          1.3,
          1.3,
          1.3,
          1.28,
          1.28,
          1.28,
          1.28,
          1.28,
          1.28,
          1.26,
          1.26,
          1.26,
          1.26,
          1.26,
          1.26,
          1.25,
          1.25,
          1.25,
          1.25,
          1.25,
          1.25,
          1.25,
          1.25,
          1.24,
          1.24,
          1.23,
          1.23,
          1.22,
          1.22,
          1.22,
          1.22,
          1.22,
          1.22,
          1.22,
          1.22,
          1.22,
          1.22,
          1.22,
          1.22,
          1.21,
          1.21,
          1.21,
          1.21,
          1.19,
          1.19,
          1.19,
          1.19,
          1.19,
          1.19,
          1.17,
          1.17,
          1.17,
          1.17,
          1.16,
          1.16,
          1.15,
          1.15,
          1.15,
          1.15,
          1.11,
          1.11,
          1.07,
          1.07
         ]
        }
       ],
       "layout": {
        "coloraxis": {
         "colorbar": {
          "title": {
           "text": "antecedent support"
          }
         },
         "colorscale": [
          [
           0,
           "#0d0887"
          ],
          [
           0.1111111111111111,
           "#46039f"
          ],
          [
           0.2222222222222222,
           "#7201a8"
          ],
          [
           0.3333333333333333,
           "#9c179e"
          ],
          [
           0.4444444444444444,
           "#bd3786"
          ],
          [
           0.5555555555555556,
           "#d8576b"
          ],
          [
           0.6666666666666666,
           "#ed7953"
          ],
          [
           0.7777777777777778,
           "#fb9f3a"
          ],
          [
           0.8888888888888888,
           "#fdca26"
          ],
          [
           1,
           "#f0f921"
          ]
         ]
        },
        "height": 800,
        "legend": {
         "tracegroupgap": 0
        },
        "scene": {
         "domain": {
          "x": [
           0,
           1
          ],
          "y": [
           0,
           1
          ]
         },
         "xaxis": {
          "title": {
           "text": "support"
          }
         },
         "yaxis": {
          "title": {
           "text": "confidence"
          }
         },
         "zaxis": {
          "title": {
           "text": "lift"
          }
         }
        },
        "template": {
         "data": {
          "bar": [
           {
            "error_x": {
             "color": "#2a3f5f"
            },
            "error_y": {
             "color": "#2a3f5f"
            },
            "marker": {
             "line": {
              "color": "#E5ECF6",
              "width": 0.5
             }
            },
            "type": "bar"
           }
          ],
          "barpolar": [
           {
            "marker": {
             "line": {
              "color": "#E5ECF6",
              "width": 0.5
             }
            },
            "type": "barpolar"
           }
          ],
          "carpet": [
           {
            "aaxis": {
             "endlinecolor": "#2a3f5f",
             "gridcolor": "white",
             "linecolor": "white",
             "minorgridcolor": "white",
             "startlinecolor": "#2a3f5f"
            },
            "baxis": {
             "endlinecolor": "#2a3f5f",
             "gridcolor": "white",
             "linecolor": "white",
             "minorgridcolor": "white",
             "startlinecolor": "#2a3f5f"
            },
            "type": "carpet"
           }
          ],
          "choropleth": [
           {
            "colorbar": {
             "outlinewidth": 0,
             "ticks": ""
            },
            "type": "choropleth"
           }
          ],
          "contour": [
           {
            "colorbar": {
             "outlinewidth": 0,
             "ticks": ""
            },
            "colorscale": [
             [
              0,
              "#0d0887"
             ],
             [
              0.1111111111111111,
              "#46039f"
             ],
             [
              0.2222222222222222,
              "#7201a8"
             ],
             [
              0.3333333333333333,
              "#9c179e"
             ],
             [
              0.4444444444444444,
              "#bd3786"
             ],
             [
              0.5555555555555556,
              "#d8576b"
             ],
             [
              0.6666666666666666,
              "#ed7953"
             ],
             [
              0.7777777777777778,
              "#fb9f3a"
             ],
             [
              0.8888888888888888,
              "#fdca26"
             ],
             [
              1,
              "#f0f921"
             ]
            ],
            "type": "contour"
           }
          ],
          "contourcarpet": [
           {
            "colorbar": {
             "outlinewidth": 0,
             "ticks": ""
            },
            "type": "contourcarpet"
           }
          ],
          "heatmap": [
           {
            "colorbar": {
             "outlinewidth": 0,
             "ticks": ""
            },
            "colorscale": [
             [
              0,
              "#0d0887"
             ],
             [
              0.1111111111111111,
              "#46039f"
             ],
             [
              0.2222222222222222,
              "#7201a8"
             ],
             [
              0.3333333333333333,
              "#9c179e"
             ],
             [
              0.4444444444444444,
              "#bd3786"
             ],
             [
              0.5555555555555556,
              "#d8576b"
             ],
             [
              0.6666666666666666,
              "#ed7953"
             ],
             [
              0.7777777777777778,
              "#fb9f3a"
             ],
             [
              0.8888888888888888,
              "#fdca26"
             ],
             [
              1,
              "#f0f921"
             ]
            ],
            "type": "heatmap"
           }
          ],
          "heatmapgl": [
           {
            "colorbar": {
             "outlinewidth": 0,
             "ticks": ""
            },
            "colorscale": [
             [
              0,
              "#0d0887"
             ],
             [
              0.1111111111111111,
              "#46039f"
             ],
             [
              0.2222222222222222,
              "#7201a8"
             ],
             [
              0.3333333333333333,
              "#9c179e"
             ],
             [
              0.4444444444444444,
              "#bd3786"
             ],
             [
              0.5555555555555556,
              "#d8576b"
             ],
             [
              0.6666666666666666,
              "#ed7953"
             ],
             [
              0.7777777777777778,
              "#fb9f3a"
             ],
             [
              0.8888888888888888,
              "#fdca26"
             ],
             [
              1,
              "#f0f921"
             ]
            ],
            "type": "heatmapgl"
           }
          ],
          "histogram": [
           {
            "marker": {
             "colorbar": {
              "outlinewidth": 0,
              "ticks": ""
             }
            },
            "type": "histogram"
           }
          ],
          "histogram2d": [
           {
            "colorbar": {
             "outlinewidth": 0,
             "ticks": ""
            },
            "colorscale": [
             [
              0,
              "#0d0887"
             ],
             [
              0.1111111111111111,
              "#46039f"
             ],
             [
              0.2222222222222222,
              "#7201a8"
             ],
             [
              0.3333333333333333,
              "#9c179e"
             ],
             [
              0.4444444444444444,
              "#bd3786"
             ],
             [
              0.5555555555555556,
              "#d8576b"
             ],
             [
              0.6666666666666666,
              "#ed7953"
             ],
             [
              0.7777777777777778,
              "#fb9f3a"
             ],
             [
              0.8888888888888888,
              "#fdca26"
             ],
             [
              1,
              "#f0f921"
             ]
            ],
            "type": "histogram2d"
           }
          ],
          "histogram2dcontour": [
           {
            "colorbar": {
             "outlinewidth": 0,
             "ticks": ""
            },
            "colorscale": [
             [
              0,
              "#0d0887"
             ],
             [
              0.1111111111111111,
              "#46039f"
             ],
             [
              0.2222222222222222,
              "#7201a8"
             ],
             [
              0.3333333333333333,
              "#9c179e"
             ],
             [
              0.4444444444444444,
              "#bd3786"
             ],
             [
              0.5555555555555556,
              "#d8576b"
             ],
             [
              0.6666666666666666,
              "#ed7953"
             ],
             [
              0.7777777777777778,
              "#fb9f3a"
             ],
             [
              0.8888888888888888,
              "#fdca26"
             ],
             [
              1,
              "#f0f921"
             ]
            ],
            "type": "histogram2dcontour"
           }
          ],
          "mesh3d": [
           {
            "colorbar": {
             "outlinewidth": 0,
             "ticks": ""
            },
            "type": "mesh3d"
           }
          ],
          "parcoords": [
           {
            "line": {
             "colorbar": {
              "outlinewidth": 0,
              "ticks": ""
             }
            },
            "type": "parcoords"
           }
          ],
          "pie": [
           {
            "automargin": true,
            "type": "pie"
           }
          ],
          "scatter": [
           {
            "marker": {
             "colorbar": {
              "outlinewidth": 0,
              "ticks": ""
             }
            },
            "type": "scatter"
           }
          ],
          "scatter3d": [
           {
            "line": {
             "colorbar": {
              "outlinewidth": 0,
              "ticks": ""
             }
            },
            "marker": {
             "colorbar": {
              "outlinewidth": 0,
              "ticks": ""
             }
            },
            "type": "scatter3d"
           }
          ],
          "scattercarpet": [
           {
            "marker": {
             "colorbar": {
              "outlinewidth": 0,
              "ticks": ""
             }
            },
            "type": "scattercarpet"
           }
          ],
          "scattergeo": [
           {
            "marker": {
             "colorbar": {
              "outlinewidth": 0,
              "ticks": ""
             }
            },
            "type": "scattergeo"
           }
          ],
          "scattergl": [
           {
            "marker": {
             "colorbar": {
              "outlinewidth": 0,
              "ticks": ""
             }
            },
            "type": "scattergl"
           }
          ],
          "scattermapbox": [
           {
            "marker": {
             "colorbar": {
              "outlinewidth": 0,
              "ticks": ""
             }
            },
            "type": "scattermapbox"
           }
          ],
          "scatterpolar": [
           {
            "marker": {
             "colorbar": {
              "outlinewidth": 0,
              "ticks": ""
             }
            },
            "type": "scatterpolar"
           }
          ],
          "scatterpolargl": [
           {
            "marker": {
             "colorbar": {
              "outlinewidth": 0,
              "ticks": ""
             }
            },
            "type": "scatterpolargl"
           }
          ],
          "scatterternary": [
           {
            "marker": {
             "colorbar": {
              "outlinewidth": 0,
              "ticks": ""
             }
            },
            "type": "scatterternary"
           }
          ],
          "surface": [
           {
            "colorbar": {
             "outlinewidth": 0,
             "ticks": ""
            },
            "colorscale": [
             [
              0,
              "#0d0887"
             ],
             [
              0.1111111111111111,
              "#46039f"
             ],
             [
              0.2222222222222222,
              "#7201a8"
             ],
             [
              0.3333333333333333,
              "#9c179e"
             ],
             [
              0.4444444444444444,
              "#bd3786"
             ],
             [
              0.5555555555555556,
              "#d8576b"
             ],
             [
              0.6666666666666666,
              "#ed7953"
             ],
             [
              0.7777777777777778,
              "#fb9f3a"
             ],
             [
              0.8888888888888888,
              "#fdca26"
             ],
             [
              1,
              "#f0f921"
             ]
            ],
            "type": "surface"
           }
          ],
          "table": [
           {
            "cells": {
             "fill": {
              "color": "#EBF0F8"
             },
             "line": {
              "color": "white"
             }
            },
            "header": {
             "fill": {
              "color": "#C8D4E3"
             },
             "line": {
              "color": "white"
             }
            },
            "type": "table"
           }
          ]
         },
         "layout": {
          "annotationdefaults": {
           "arrowcolor": "#2a3f5f",
           "arrowhead": 0,
           "arrowwidth": 1
          },
          "coloraxis": {
           "colorbar": {
            "outlinewidth": 0,
            "ticks": ""
           }
          },
          "colorscale": {
           "diverging": [
            [
             0,
             "#8e0152"
            ],
            [
             0.1,
             "#c51b7d"
            ],
            [
             0.2,
             "#de77ae"
            ],
            [
             0.3,
             "#f1b6da"
            ],
            [
             0.4,
             "#fde0ef"
            ],
            [
             0.5,
             "#f7f7f7"
            ],
            [
             0.6,
             "#e6f5d0"
            ],
            [
             0.7,
             "#b8e186"
            ],
            [
             0.8,
             "#7fbc41"
            ],
            [
             0.9,
             "#4d9221"
            ],
            [
             1,
             "#276419"
            ]
           ],
           "sequential": [
            [
             0,
             "#0d0887"
            ],
            [
             0.1111111111111111,
             "#46039f"
            ],
            [
             0.2222222222222222,
             "#7201a8"
            ],
            [
             0.3333333333333333,
             "#9c179e"
            ],
            [
             0.4444444444444444,
             "#bd3786"
            ],
            [
             0.5555555555555556,
             "#d8576b"
            ],
            [
             0.6666666666666666,
             "#ed7953"
            ],
            [
             0.7777777777777778,
             "#fb9f3a"
            ],
            [
             0.8888888888888888,
             "#fdca26"
            ],
            [
             1,
             "#f0f921"
            ]
           ],
           "sequentialminus": [
            [
             0,
             "#0d0887"
            ],
            [
             0.1111111111111111,
             "#46039f"
            ],
            [
             0.2222222222222222,
             "#7201a8"
            ],
            [
             0.3333333333333333,
             "#9c179e"
            ],
            [
             0.4444444444444444,
             "#bd3786"
            ],
            [
             0.5555555555555556,
             "#d8576b"
            ],
            [
             0.6666666666666666,
             "#ed7953"
            ],
            [
             0.7777777777777778,
             "#fb9f3a"
            ],
            [
             0.8888888888888888,
             "#fdca26"
            ],
            [
             1,
             "#f0f921"
            ]
           ]
          },
          "colorway": [
           "#636efa",
           "#EF553B",
           "#00cc96",
           "#ab63fa",
           "#FFA15A",
           "#19d3f3",
           "#FF6692",
           "#B6E880",
           "#FF97FF",
           "#FECB52"
          ],
          "font": {
           "color": "#2a3f5f"
          },
          "geo": {
           "bgcolor": "white",
           "lakecolor": "white",
           "landcolor": "#E5ECF6",
           "showlakes": true,
           "showland": true,
           "subunitcolor": "white"
          },
          "hoverlabel": {
           "align": "left"
          },
          "hovermode": "closest",
          "mapbox": {
           "style": "light"
          },
          "paper_bgcolor": "white",
          "plot_bgcolor": "#E5ECF6",
          "polar": {
           "angularaxis": {
            "gridcolor": "white",
            "linecolor": "white",
            "ticks": ""
           },
           "bgcolor": "#E5ECF6",
           "radialaxis": {
            "gridcolor": "white",
            "linecolor": "white",
            "ticks": ""
           }
          },
          "scene": {
           "xaxis": {
            "backgroundcolor": "#E5ECF6",
            "gridcolor": "white",
            "gridwidth": 2,
            "linecolor": "white",
            "showbackground": true,
            "ticks": "",
            "zerolinecolor": "white"
           },
           "yaxis": {
            "backgroundcolor": "#E5ECF6",
            "gridcolor": "white",
            "gridwidth": 2,
            "linecolor": "white",
            "showbackground": true,
            "ticks": "",
            "zerolinecolor": "white"
           },
           "zaxis": {
            "backgroundcolor": "#E5ECF6",
            "gridcolor": "white",
            "gridwidth": 2,
            "linecolor": "white",
            "showbackground": true,
            "ticks": "",
            "zerolinecolor": "white"
           }
          },
          "shapedefaults": {
           "line": {
            "color": "#2a3f5f"
           }
          },
          "ternary": {
           "aaxis": {
            "gridcolor": "white",
            "linecolor": "white",
            "ticks": ""
           },
           "baxis": {
            "gridcolor": "white",
            "linecolor": "white",
            "ticks": ""
           },
           "bgcolor": "#E5ECF6",
           "caxis": {
            "gridcolor": "white",
            "linecolor": "white",
            "ticks": ""
           }
          },
          "title": {
           "x": 0.05
          },
          "xaxis": {
           "automargin": true,
           "gridcolor": "white",
           "linecolor": "white",
           "ticks": "",
           "title": {
            "standoff": 15
           },
           "zerolinecolor": "white",
           "zerolinewidth": 2
          },
          "yaxis": {
           "automargin": true,
           "gridcolor": "white",
           "linecolor": "white",
           "ticks": "",
           "title": {
            "standoff": 15
           },
           "zerolinecolor": "white",
           "zerolinewidth": 2
          }
         }
        },
        "title": {
         "text": "3d Plot for Rule Mining"
        },
        "width": 900
       }
      },
      "text/html": [
       "<div>\n",
       "        \n",
       "        \n",
       "            <div id=\"442153cf-cd3c-449b-91a7-b8b8c10b6ae5\" class=\"plotly-graph-div\" style=\"height:800px; width:900px;\"></div>\n",
       "            <script type=\"text/javascript\">\n",
       "                require([\"plotly\"], function(Plotly) {\n",
       "                    window.PLOTLYENV=window.PLOTLYENV || {};\n",
       "                    \n",
       "                if (document.getElementById(\"442153cf-cd3c-449b-91a7-b8b8c10b6ae5\")) {\n",
       "                    Plotly.newPlot(\n",
       "                        '442153cf-cd3c-449b-91a7-b8b8c10b6ae5',\n",
       "                        [{\"customdata\": [[\"POSTAGE\", \"ALARM CLOCK BAKELIKE RED \"], [\"ALARM CLOCK BAKELIKE RED \", \"POSTAGE\"], [\"ALARM CLOCK BAKELIKE RED \", \"ALARM CLOCK BAKELIKE GREEN\"], [\"ALARM CLOCK BAKELIKE GREEN\", \"ALARM CLOCK BAKELIKE RED \"], [\"POSTAGE\", \"ALARM CLOCK BAKELIKE GREEN\"], [\"ALARM CLOCK BAKELIKE GREEN\", \"POSTAGE\"], [\"ALARM CLOCK BAKELIKE RED \", \"ALARM CLOCK BAKELIKE PINK\"], [\"ALARM CLOCK BAKELIKE PINK\", \"ALARM CLOCK BAKELIKE RED \"], [\"SET/6 RED SPOTTY PAPER PLATES\", \"SET/20 RED RETROSPOT PAPER NAPKINS \"], [\"SET/20 RED RETROSPOT PAPER NAPKINS \", \"SET/6 RED SPOTTY PAPER PLATES\"], [\"POSTAGE\", \"SET/6 RED SPOTTY PAPER PLATES\"], [\"SET/6 RED SPOTTY PAPER PLATES\", \"POSTAGE\"], [\"SET/20 RED RETROSPOT PAPER NAPKINS \", \"POSTAGE\"], [\"POSTAGE\", \"SET/20 RED RETROSPOT PAPER NAPKINS \"], [\"ALARM CLOCK BAKELIKE GREEN\", \"ALARM CLOCK BAKELIKE PINK\"], [\"ALARM CLOCK BAKELIKE PINK\", \"ALARM CLOCK BAKELIKE GREEN\"], [\"SET/6 RED SPOTTY PAPER CUPS\", \"SET/20 RED RETROSPOT PAPER NAPKINS \"], [\"SET/20 RED RETROSPOT PAPER NAPKINS \", \"SET/6 RED SPOTTY PAPER CUPS\"], [\"POSTAGE\", \"SET/6 RED SPOTTY PAPER CUPS\"], [\"SET/6 RED SPOTTY PAPER CUPS\", \"POSTAGE\"], [\"SET/6 RED SPOTTY PAPER PLATES\", \"SET/6 RED SPOTTY PAPER CUPS\"], [\"SET/6 RED SPOTTY PAPER CUPS\", \"SET/6 RED SPOTTY PAPER PLATES\"], [\"POSTAGE\", \"SET/6 RED SPOTTY PAPER CUPS\"], [\"SET/6 RED SPOTTY PAPER CUPS\", \"POSTAGE\"], [\"SET/20 RED RETROSPOT PAPER NAPKINS \", \"POSTAGE\"], [\"POSTAGE\", \"SET/20 RED RETROSPOT PAPER NAPKINS \"], [\"SET/6 RED SPOTTY PAPER PLATES\", \"POSTAGE\"], [\"POSTAGE\", \"SET/6 RED SPOTTY PAPER PLATES\"], [\"SET/20 RED RETROSPOT PAPER NAPKINS \", \"SET/6 RED SPOTTY PAPER CUPS\"], [\"SET/6 RED SPOTTY PAPER CUPS\", \"SET/20 RED RETROSPOT PAPER NAPKINS \"], [\"POSTAGE\", \"SET/6 RED SPOTTY PAPER CUPS\"], [\"SET/6 RED SPOTTY PAPER CUPS\", \"POSTAGE\"], [\"POSTAGE\", \"SET/20 RED RETROSPOT PAPER NAPKINS \"], [\"SET/20 RED RETROSPOT PAPER NAPKINS \", \"SET/6 RED SPOTTY PAPER PLATES\"], [\"SET/20 RED RETROSPOT PAPER NAPKINS \", \"POSTAGE\"], [\"SET/6 RED SPOTTY PAPER PLATES\", \"SET/20 RED RETROSPOT PAPER NAPKINS \"], [\"POSTAGE\", \"SET/6 RED SPOTTY PAPER PLATES\"], [\"SET/6 RED SPOTTY PAPER PLATES\", \"POSTAGE\"], [\"POSTAGE\", \"SET/20 RED RETROSPOT PAPER NAPKINS \"], [\"SET/20 RED RETROSPOT PAPER NAPKINS \", \"POSTAGE\"], [\"SPACEBOY LUNCH BOX \", \"DOLLY GIRL LUNCH BOX\"], [\"DOLLY GIRL LUNCH BOX\", \"SPACEBOY LUNCH BOX \"], [\"SET/20 RED RETROSPOT PAPER NAPKINS \", \"SET/6 RED SPOTTY PAPER CUPS\"], [\"SET/6 RED SPOTTY PAPER CUPS\", \"SET/20 RED RETROSPOT PAPER NAPKINS \"], [\"POSTAGE\", \"SET/6 RED SPOTTY PAPER CUPS\"], [\"SET/6 RED SPOTTY PAPER CUPS\", \"POSTAGE\"], [\"SET/20 RED RETROSPOT PAPER NAPKINS \", \"POSTAGE\"], [\"POSTAGE\", \"SET/20 RED RETROSPOT PAPER NAPKINS \"], [\"PLASTERS IN TIN SPACEBOY\", \"PLASTERS IN TIN WOODLAND ANIMALS\"], [\"PLASTERS IN TIN WOODLAND ANIMALS\", \"PLASTERS IN TIN SPACEBOY\"], [\"POSTAGE\", \"PLASTERS IN TIN SPACEBOY\"], [\"PLASTERS IN TIN SPACEBOY\", \"POSTAGE\"], [\"PLASTERS IN TIN WOODLAND ANIMALS\", \"POSTAGE\"], [\"POSTAGE\", \"PLASTERS IN TIN WOODLAND ANIMALS\"], [\"PLASTERS IN TIN SPACEBOY\", \"PLASTERS IN TIN CIRCUS PARADE \"], [\"PLASTERS IN TIN CIRCUS PARADE \", \"PLASTERS IN TIN SPACEBOY\"], [\"PLASTERS IN TIN CIRCUS PARADE \", \"POSTAGE\"], [\"POSTAGE\", \"PLASTERS IN TIN CIRCUS PARADE \"], [\"PLASTERS IN TIN SPACEBOY\", \"POSTAGE\"], [\"POSTAGE\", \"PLASTERS IN TIN SPACEBOY\"], [\"POSTAGE\", \"PLASTERS IN TIN CIRCUS PARADE \"], [\"PLASTERS IN TIN CIRCUS PARADE \", \"POSTAGE\"], [\"PLASTERS IN TIN WOODLAND ANIMALS\", \"PLASTERS IN TIN CIRCUS PARADE \"], [\"PLASTERS IN TIN CIRCUS PARADE \", \"PLASTERS IN TIN WOODLAND ANIMALS\"], [\"POSTAGE\", \"PLASTERS IN TIN WOODLAND ANIMALS\"], [\"PLASTERS IN TIN WOODLAND ANIMALS\", \"POSTAGE\"], [\"POSTAGE\", \"JUMBO BAG WOODLAND ANIMALS\"], [\"JUMBO BAG WOODLAND ANIMALS\", \"POSTAGE\"], [\"POSTAGE\", \"TEA PARTY BIRTHDAY CARD\"], [\"TEA PARTY BIRTHDAY CARD\", \"POSTAGE\"], [\"POSTAGE\", \"STRAWBERRY LUNCH BOX WITH CUTLERY\"], [\"STRAWBERRY LUNCH BOX WITH CUTLERY\", \"POSTAGE\"], [\"ALARM CLOCK BAKELIKE RED \", \"POSTAGE\"], [\"POSTAGE\", \"ALARM CLOCK BAKELIKE RED \"], [\"ROUND SNACK BOXES SET OF4 WOODLAND \", \"POSTAGE\"], [\"POSTAGE\", \"ROUND SNACK BOXES SET OF4 WOODLAND \"], [\"ALARM CLOCK BAKELIKE RED \", \"POSTAGE\"], [\"POSTAGE\", \"ALARM CLOCK BAKELIKE RED \"], [\"ALARM CLOCK BAKELIKE PINK\", \"POSTAGE\"], [\"POSTAGE\", \"ALARM CLOCK BAKELIKE PINK\"], [\"PAPER BUNTING RETROSPOT\", \"POSTAGE\"], [\"POSTAGE\", \"PAPER BUNTING RETROSPOT\"], [\"POSTAGE\", \"RABBIT NIGHT LIGHT\"], [\"RABBIT NIGHT LIGHT\", \"POSTAGE\"], [\"POSTAGE\", \"RED TOADSTOOL LED NIGHT LIGHT\"], [\"RED TOADSTOOL LED NIGHT LIGHT\", \"POSTAGE\"], [\"ROUND SNACK BOXES SET OF 4 FRUITS \", \"POSTAGE\"], [\"POSTAGE\", \"ROUND SNACK BOXES SET OF 4 FRUITS \"], [\"POSTAGE\", \"PLASTERS IN TIN CIRCUS PARADE \"], [\"PLASTERS IN TIN CIRCUS PARADE \", \"POSTAGE\"], [\"SET/6 RED SPOTTY PAPER CUPS\", \"POSTAGE\"], [\"POSTAGE\", \"SET/6 RED SPOTTY PAPER CUPS\"], [\"POSTAGE\", \"LUNCH BAG WOODLAND\"], [\"LUNCH BAG WOODLAND\", \"POSTAGE\"], [\"POSTAGE\", \"ALARM CLOCK BAKELIKE GREEN\"], [\"ALARM CLOCK BAKELIKE GREEN\", \"POSTAGE\"], [\"JUMBO BAG RED RETROSPOT\", \"POSTAGE\"], [\"POSTAGE\", \"RED RETROSPOT CHARLOTTE BAG\"], [\"RED RETROSPOT CHARLOTTE BAG\", \"POSTAGE\"], [\"POSTAGE\", \"JUMBO BAG RED RETROSPOT\"], [\"POSTAGE\", \"SET/6 RED SPOTTY PAPER PLATES\"], [\"SET/6 RED SPOTTY PAPER PLATES\", \"POSTAGE\"], [\"SET/6 RED SPOTTY PAPER CUPS\", \"POSTAGE\"], [\"POSTAGE\", \"SET/6 RED SPOTTY PAPER CUPS\"], [\"SET/20 RED RETROSPOT PAPER NAPKINS \", \"POSTAGE\"], [\"POSTAGE\", \"SET/20 RED RETROSPOT PAPER NAPKINS \"], [\"POSTAGE\", \"PACK OF 72 RETROSPOT CAKE CASES\"], [\"PACK OF 72 RETROSPOT CAKE CASES\", \"POSTAGE\"], [\"PLASTERS IN TIN CIRCUS PARADE \", \"POSTAGE\"], [\"SET/20 RED RETROSPOT PAPER NAPKINS \", \"POSTAGE\"], [\"POSTAGE\", \"SET/20 RED RETROSPOT PAPER NAPKINS \"], [\"SET/20 RED RETROSPOT PAPER NAPKINS \", \"POSTAGE\"], [\"POSTAGE\", \"SET/20 RED RETROSPOT PAPER NAPKINS \"], [\"POSTAGE\", \"PLASTERS IN TIN CIRCUS PARADE \"], [\"SET/20 RED RETROSPOT PAPER NAPKINS \", \"POSTAGE\"], [\"POSTAGE\", \"SET/20 RED RETROSPOT PAPER NAPKINS \"], [\"POSTAGE\", \"LUNCH BAG APPLE DESIGN\"], [\"LUNCH BAG APPLE DESIGN\", \"POSTAGE\"], [\"RED RETROSPOT MINI CASES\", \"POSTAGE\"], [\"PLASTERS IN TIN SPACEBOY\", \"POSTAGE\"], [\"POSTAGE\", \"PLASTERS IN TIN SPACEBOY\"], [\"POSTAGE\", \"RED RETROSPOT MINI CASES\"], [\"PLASTERS IN TIN WOODLAND ANIMALS\", \"POSTAGE\"], [\"POSTAGE\", \"PLASTERS IN TIN WOODLAND ANIMALS\"], [\"PLASTERS IN TIN CIRCUS PARADE \", \"POSTAGE\"], [\"POSTAGE\", \"PLASTERS IN TIN CIRCUS PARADE \"], [\"PLASTERS IN TIN WOODLAND ANIMALS\", \"POSTAGE\"], [\"POSTAGE\", \"PLASTERS IN TIN WOODLAND ANIMALS\"], [\"LUNCH BOX WITH CUTLERY RETROSPOT \", \"POSTAGE\"], [\"POSTAGE\", \"LUNCH BOX WITH CUTLERY RETROSPOT \"], [\"LUNCH BAG RED RETROSPOT\", \"POSTAGE\"], [\"POSTAGE\", \"LUNCH BAG RED RETROSPOT\"], [\"POSTAGE\", \"MINI PAINT SET VINTAGE \"], [\"MINI PAINT SET VINTAGE \", \"POSTAGE\"], [\"REGENCY CAKESTAND 3 TIER\", \"POSTAGE\"], [\"POSTAGE\", \"REGENCY CAKESTAND 3 TIER\"], [\"POSTAGE\", \"SPACEBOY LUNCH BOX \"], [\"SPACEBOY LUNCH BOX \", \"POSTAGE\"], [\"LUNCH BAG SPACEBOY DESIGN \", \"POSTAGE\"], [\"POSTAGE\", \"LUNCH BAG SPACEBOY DESIGN \"], [\"DOLLY GIRL LUNCH BOX\", \"POSTAGE\"], [\"POSTAGE\", \"DOLLY GIRL LUNCH BOX\"]], \"hoverlabel\": {\"namelength\": 0}, \"hovertemplate\": \"support=%{x}<br>confidence=%{y}<br>lift=%{z}<br>antecedents=%{customdata[0]}<br>consequents=%{customdata[1]}<br>antecedent support=%{marker.color}\", \"legendgroup\": \"\", \"marker\": {\"color\": [0.07, 0.08, 0.08, 0.08, 0.07, 0.08, 0.08, 0.09, 0.11, 0.09, 0.07, 0.11, 0.09, 0.09, 0.08, 0.09, 0.12, 0.09, 0.07, 0.12, 0.11, 0.12, 0.09, 0.12, 0.09, 0.1, 0.11, 0.1, 0.11, 0.1, 0.09, 0.1, 0.09, 0.11, 0.11, 0.11, 0.09, 0.11, 0.09, 0.11, 0.11, 0.09, 0.11, 0.12, 0.09, 0.12, 0.11, 0.1, 0.12, 0.15, 0.12, 0.12, 0.15, 0.1, 0.12, 0.15, 0.15, 0.1, 0.12, 0.13, 0.12, 0.15, 0.15, 0.15, 0.13, 0.15, 0.67, 0.07, 0.67, 0.08, 0.67, 0.1, 0.08, 0.67, 0.14, 0.67, 0.07, 0.67, 0.09, 0.67, 0.07, 0.67, 0.67, 0.16, 0.67, 0.16, 0.09, 0.67, 0.67, 0.15, 0.12, 0.67, 0.67, 0.1, 0.67, 0.08, 0.08, 0.67, 0.08, 0.67, 0.67, 0.11, 0.1, 0.67, 0.11, 0.67, 0.67, 0.09, 0.09, 0.09, 0.67, 0.09, 0.67, 0.67, 0.08, 0.67, 0.67, 0.11, 0.12, 0.12, 0.67, 0.67, 0.15, 0.67, 0.08, 0.67, 0.09, 0.67, 0.12, 0.67, 0.13, 0.67, 0.67, 0.09, 0.12, 0.67, 0.67, 0.11, 0.1, 0.67, 0.09, 0.67], \"coloraxis\": \"coloraxis\", \"opacity\": 0.7, \"symbol\": \"circle\"}, \"mode\": \"markers\", \"name\": \"\", \"scene\": \"scene\", \"showlegend\": false, \"type\": \"scatter3d\", \"x\": [0.06, 0.06, 0.07, 0.07, 0.06, 0.06, 0.06, 0.06, 0.08, 0.08, 0.07, 0.07, 0.07, 0.07, 0.06, 0.06, 0.08, 0.08, 0.07, 0.07, 0.1, 0.1, 0.09, 0.09, 0.07, 0.07, 0.09, 0.09, 0.08, 0.08, 0.07, 0.07, 0.07, 0.09, 0.07, 0.09, 0.07, 0.07, 0.07, 0.07, 0.06, 0.06, 0.09, 0.09, 0.07, 0.07, 0.07, 0.07, 0.09, 0.09, 0.07, 0.07, 0.07, 0.07, 0.08, 0.08, 0.06, 0.06, 0.06, 0.06, 0.07, 0.07, 0.09, 0.09, 0.07, 0.07, 0.07, 0.07, 0.08, 0.08, 0.1, 0.1, 0.07, 0.07, 0.13, 0.13, 0.06, 0.06, 0.08, 0.08, 0.06, 0.06, 0.14, 0.14, 0.13, 0.13, 0.08, 0.08, 0.13, 0.13, 0.1, 0.1, 0.09, 0.09, 0.07, 0.07, 0.07, 0.07, 0.07, 0.07, 0.09, 0.09, 0.09, 0.09, 0.09, 0.09, 0.07, 0.07, 0.07, 0.07, 0.07, 0.07, 0.07, 0.07, 0.07, 0.07, 0.09, 0.09, 0.1, 0.1, 0.1, 0.1, 0.12, 0.12, 0.06, 0.06, 0.07, 0.07, 0.1, 0.1, 0.1, 0.1, 0.07, 0.07, 0.09, 0.09, 0.08, 0.08, 0.08, 0.08, 0.06, 0.06], \"y\": [0.85, 0.76, 0.84, 0.79, 0.82, 0.72, 0.78, 0.73, 0.78, 0.98, 0.97, 0.64, 0.8, 0.76, 0.74, 0.73, 0.72, 0.98, 0.97, 0.59, 0.96, 0.89, 0.95, 0.74, 0.8, 0.7, 0.8, 0.87, 0.75, 0.81, 0.74, 0.67, 0.8, 0.77, 0.62, 0.8, 0.77, 0.66, 0.79, 0.63, 0.57, 0.7, 0.77, 0.74, 0.77, 0.61, 0.63, 0.72, 0.75, 0.61, 0.61, 0.6, 0.49, 0.73, 0.65, 0.53, 0.43, 0.64, 0.53, 0.5, 0.61, 0.49, 0.6, 0.59, 0.57, 0.49, 0.1, 1.0, 0.11, 0.95, 0.14, 0.94, 0.92, 0.11, 0.91, 0.19, 0.9, 0.09, 0.88, 0.11, 0.87, 0.09, 0.21, 0.87, 0.2, 0.86, 0.86, 0.12, 0.19, 0.85, 0.85, 0.15, 0.13, 0.85, 0.11, 0.85, 0.84, 0.1, 0.84, 0.1, 0.14, 0.84, 0.83, 0.13, 0.83, 0.14, 0.11, 0.82, 0.82, 0.82, 0.11, 0.82, 0.11, 0.11, 0.82, 0.1, 0.13, 0.82, 0.82, 0.82, 0.14, 0.14, 0.81, 0.17, 0.81, 0.09, 0.8, 0.11, 0.79, 0.14, 0.79, 0.15, 0.1, 0.78, 0.78, 0.14, 0.12, 0.78, 0.75, 0.12, 0.73, 0.09], \"z\": [10.57, 10.57, 9.9, 9.9, 9.73, 9.73, 9.03, 9.03, 8.99, 8.99, 8.94, 8.94, 8.78, 8.78, 8.57, 8.57, 8.32, 8.32, 8.28, 8.28, 8.2, 8.2, 8.13, 8.13, 8.02, 8.02, 8.02, 8.02, 7.2, 7.2, 7.15, 7.15, 7.09, 7.09, 7.09, 7.09, 7.08, 7.08, 6.97, 6.97, 6.59, 6.59, 6.57, 6.57, 6.55, 6.55, 6.36, 6.36, 5.13, 5.13, 5.12, 5.12, 5.05, 5.05, 4.44, 4.44, 4.37, 4.37, 4.19, 4.19, 4.14, 4.14, 4.05, 4.05, 3.91, 3.91, 1.48, 1.48, 1.4, 1.4, 1.39, 1.39, 1.36, 1.36, 1.34, 1.34, 1.34, 1.34, 1.3, 1.3, 1.3, 1.3, 1.28, 1.28, 1.28, 1.28, 1.28, 1.28, 1.26, 1.26, 1.26, 1.26, 1.26, 1.26, 1.25, 1.25, 1.25, 1.25, 1.25, 1.25, 1.25, 1.25, 1.24, 1.24, 1.23, 1.23, 1.22, 1.22, 1.22, 1.22, 1.22, 1.22, 1.22, 1.22, 1.22, 1.22, 1.22, 1.22, 1.21, 1.21, 1.21, 1.21, 1.19, 1.19, 1.19, 1.19, 1.19, 1.19, 1.17, 1.17, 1.17, 1.17, 1.16, 1.16, 1.15, 1.15, 1.15, 1.15, 1.11, 1.11, 1.07, 1.07]}],\n",
       "                        {\"coloraxis\": {\"colorbar\": {\"title\": {\"text\": \"antecedent support\"}}, \"colorscale\": [[0.0, \"#0d0887\"], [0.1111111111111111, \"#46039f\"], [0.2222222222222222, \"#7201a8\"], [0.3333333333333333, \"#9c179e\"], [0.4444444444444444, \"#bd3786\"], [0.5555555555555556, \"#d8576b\"], [0.6666666666666666, \"#ed7953\"], [0.7777777777777778, \"#fb9f3a\"], [0.8888888888888888, \"#fdca26\"], [1.0, \"#f0f921\"]]}, \"height\": 800, \"legend\": {\"tracegroupgap\": 0}, \"scene\": {\"domain\": {\"x\": [0.0, 1.0], \"y\": [0.0, 1.0]}, \"xaxis\": {\"title\": {\"text\": \"support\"}}, \"yaxis\": {\"title\": {\"text\": \"confidence\"}}, \"zaxis\": {\"title\": {\"text\": \"lift\"}}}, \"template\": {\"data\": {\"bar\": [{\"error_x\": {\"color\": \"#2a3f5f\"}, \"error_y\": {\"color\": \"#2a3f5f\"}, \"marker\": {\"line\": {\"color\": \"#E5ECF6\", \"width\": 0.5}}, \"type\": \"bar\"}], \"barpolar\": [{\"marker\": {\"line\": {\"color\": \"#E5ECF6\", \"width\": 0.5}}, \"type\": \"barpolar\"}], \"carpet\": [{\"aaxis\": {\"endlinecolor\": \"#2a3f5f\", \"gridcolor\": \"white\", \"linecolor\": \"white\", \"minorgridcolor\": \"white\", \"startlinecolor\": \"#2a3f5f\"}, \"baxis\": {\"endlinecolor\": \"#2a3f5f\", \"gridcolor\": \"white\", \"linecolor\": \"white\", \"minorgridcolor\": \"white\", \"startlinecolor\": \"#2a3f5f\"}, \"type\": \"carpet\"}], \"choropleth\": [{\"colorbar\": {\"outlinewidth\": 0, \"ticks\": \"\"}, \"type\": \"choropleth\"}], \"contour\": [{\"colorbar\": {\"outlinewidth\": 0, \"ticks\": \"\"}, \"colorscale\": [[0.0, \"#0d0887\"], [0.1111111111111111, \"#46039f\"], [0.2222222222222222, \"#7201a8\"], [0.3333333333333333, \"#9c179e\"], [0.4444444444444444, \"#bd3786\"], [0.5555555555555556, \"#d8576b\"], [0.6666666666666666, \"#ed7953\"], [0.7777777777777778, \"#fb9f3a\"], [0.8888888888888888, \"#fdca26\"], [1.0, \"#f0f921\"]], \"type\": \"contour\"}], \"contourcarpet\": [{\"colorbar\": {\"outlinewidth\": 0, \"ticks\": \"\"}, \"type\": \"contourcarpet\"}], \"heatmap\": [{\"colorbar\": {\"outlinewidth\": 0, \"ticks\": \"\"}, \"colorscale\": [[0.0, \"#0d0887\"], [0.1111111111111111, \"#46039f\"], [0.2222222222222222, \"#7201a8\"], [0.3333333333333333, \"#9c179e\"], [0.4444444444444444, \"#bd3786\"], [0.5555555555555556, \"#d8576b\"], [0.6666666666666666, \"#ed7953\"], [0.7777777777777778, \"#fb9f3a\"], [0.8888888888888888, \"#fdca26\"], [1.0, \"#f0f921\"]], \"type\": \"heatmap\"}], \"heatmapgl\": [{\"colorbar\": {\"outlinewidth\": 0, \"ticks\": \"\"}, \"colorscale\": [[0.0, \"#0d0887\"], [0.1111111111111111, \"#46039f\"], [0.2222222222222222, \"#7201a8\"], [0.3333333333333333, \"#9c179e\"], [0.4444444444444444, \"#bd3786\"], [0.5555555555555556, \"#d8576b\"], [0.6666666666666666, \"#ed7953\"], [0.7777777777777778, \"#fb9f3a\"], [0.8888888888888888, \"#fdca26\"], [1.0, \"#f0f921\"]], \"type\": \"heatmapgl\"}], \"histogram\": [{\"marker\": {\"colorbar\": {\"outlinewidth\": 0, \"ticks\": \"\"}}, \"type\": \"histogram\"}], \"histogram2d\": [{\"colorbar\": {\"outlinewidth\": 0, \"ticks\": \"\"}, \"colorscale\": [[0.0, \"#0d0887\"], [0.1111111111111111, \"#46039f\"], [0.2222222222222222, \"#7201a8\"], [0.3333333333333333, \"#9c179e\"], [0.4444444444444444, \"#bd3786\"], [0.5555555555555556, \"#d8576b\"], [0.6666666666666666, \"#ed7953\"], [0.7777777777777778, \"#fb9f3a\"], [0.8888888888888888, \"#fdca26\"], [1.0, \"#f0f921\"]], \"type\": \"histogram2d\"}], \"histogram2dcontour\": [{\"colorbar\": {\"outlinewidth\": 0, \"ticks\": \"\"}, \"colorscale\": [[0.0, \"#0d0887\"], [0.1111111111111111, \"#46039f\"], [0.2222222222222222, \"#7201a8\"], [0.3333333333333333, \"#9c179e\"], [0.4444444444444444, \"#bd3786\"], [0.5555555555555556, \"#d8576b\"], [0.6666666666666666, \"#ed7953\"], [0.7777777777777778, \"#fb9f3a\"], [0.8888888888888888, \"#fdca26\"], [1.0, \"#f0f921\"]], \"type\": \"histogram2dcontour\"}], \"mesh3d\": [{\"colorbar\": {\"outlinewidth\": 0, \"ticks\": \"\"}, \"type\": \"mesh3d\"}], \"parcoords\": [{\"line\": {\"colorbar\": {\"outlinewidth\": 0, \"ticks\": \"\"}}, \"type\": \"parcoords\"}], \"pie\": [{\"automargin\": true, \"type\": \"pie\"}], \"scatter\": [{\"marker\": {\"colorbar\": {\"outlinewidth\": 0, \"ticks\": \"\"}}, \"type\": \"scatter\"}], \"scatter3d\": [{\"line\": {\"colorbar\": {\"outlinewidth\": 0, \"ticks\": \"\"}}, \"marker\": {\"colorbar\": {\"outlinewidth\": 0, \"ticks\": \"\"}}, \"type\": \"scatter3d\"}], \"scattercarpet\": [{\"marker\": {\"colorbar\": {\"outlinewidth\": 0, \"ticks\": \"\"}}, \"type\": \"scattercarpet\"}], \"scattergeo\": [{\"marker\": {\"colorbar\": {\"outlinewidth\": 0, \"ticks\": \"\"}}, \"type\": \"scattergeo\"}], \"scattergl\": [{\"marker\": {\"colorbar\": {\"outlinewidth\": 0, \"ticks\": \"\"}}, \"type\": \"scattergl\"}], \"scattermapbox\": [{\"marker\": {\"colorbar\": {\"outlinewidth\": 0, \"ticks\": \"\"}}, \"type\": \"scattermapbox\"}], \"scatterpolar\": [{\"marker\": {\"colorbar\": {\"outlinewidth\": 0, \"ticks\": \"\"}}, \"type\": \"scatterpolar\"}], \"scatterpolargl\": [{\"marker\": {\"colorbar\": {\"outlinewidth\": 0, \"ticks\": \"\"}}, \"type\": \"scatterpolargl\"}], \"scatterternary\": [{\"marker\": {\"colorbar\": {\"outlinewidth\": 0, \"ticks\": \"\"}}, \"type\": \"scatterternary\"}], \"surface\": [{\"colorbar\": {\"outlinewidth\": 0, \"ticks\": \"\"}, \"colorscale\": [[0.0, \"#0d0887\"], [0.1111111111111111, \"#46039f\"], [0.2222222222222222, \"#7201a8\"], [0.3333333333333333, \"#9c179e\"], [0.4444444444444444, \"#bd3786\"], [0.5555555555555556, \"#d8576b\"], [0.6666666666666666, \"#ed7953\"], [0.7777777777777778, \"#fb9f3a\"], [0.8888888888888888, \"#fdca26\"], [1.0, \"#f0f921\"]], \"type\": \"surface\"}], \"table\": [{\"cells\": {\"fill\": {\"color\": \"#EBF0F8\"}, \"line\": {\"color\": \"white\"}}, \"header\": {\"fill\": {\"color\": \"#C8D4E3\"}, \"line\": {\"color\": \"white\"}}, \"type\": \"table\"}]}, \"layout\": {\"annotationdefaults\": {\"arrowcolor\": \"#2a3f5f\", \"arrowhead\": 0, \"arrowwidth\": 1}, \"coloraxis\": {\"colorbar\": {\"outlinewidth\": 0, \"ticks\": \"\"}}, \"colorscale\": {\"diverging\": [[0, \"#8e0152\"], [0.1, \"#c51b7d\"], [0.2, \"#de77ae\"], [0.3, \"#f1b6da\"], [0.4, \"#fde0ef\"], [0.5, \"#f7f7f7\"], [0.6, \"#e6f5d0\"], [0.7, \"#b8e186\"], [0.8, \"#7fbc41\"], [0.9, \"#4d9221\"], [1, \"#276419\"]], \"sequential\": [[0.0, \"#0d0887\"], [0.1111111111111111, \"#46039f\"], [0.2222222222222222, \"#7201a8\"], [0.3333333333333333, \"#9c179e\"], [0.4444444444444444, \"#bd3786\"], [0.5555555555555556, \"#d8576b\"], [0.6666666666666666, \"#ed7953\"], [0.7777777777777778, \"#fb9f3a\"], [0.8888888888888888, \"#fdca26\"], [1.0, \"#f0f921\"]], \"sequentialminus\": [[0.0, \"#0d0887\"], [0.1111111111111111, \"#46039f\"], [0.2222222222222222, \"#7201a8\"], [0.3333333333333333, \"#9c179e\"], [0.4444444444444444, \"#bd3786\"], [0.5555555555555556, \"#d8576b\"], [0.6666666666666666, \"#ed7953\"], [0.7777777777777778, \"#fb9f3a\"], [0.8888888888888888, \"#fdca26\"], [1.0, \"#f0f921\"]]}, \"colorway\": [\"#636efa\", \"#EF553B\", \"#00cc96\", \"#ab63fa\", \"#FFA15A\", \"#19d3f3\", \"#FF6692\", \"#B6E880\", \"#FF97FF\", \"#FECB52\"], \"font\": {\"color\": \"#2a3f5f\"}, \"geo\": {\"bgcolor\": \"white\", \"lakecolor\": \"white\", \"landcolor\": \"#E5ECF6\", \"showlakes\": true, \"showland\": true, \"subunitcolor\": \"white\"}, \"hoverlabel\": {\"align\": \"left\"}, \"hovermode\": \"closest\", \"mapbox\": {\"style\": \"light\"}, \"paper_bgcolor\": \"white\", \"plot_bgcolor\": \"#E5ECF6\", \"polar\": {\"angularaxis\": {\"gridcolor\": \"white\", \"linecolor\": \"white\", \"ticks\": \"\"}, \"bgcolor\": \"#E5ECF6\", \"radialaxis\": {\"gridcolor\": \"white\", \"linecolor\": \"white\", \"ticks\": \"\"}}, \"scene\": {\"xaxis\": {\"backgroundcolor\": \"#E5ECF6\", \"gridcolor\": \"white\", \"gridwidth\": 2, \"linecolor\": \"white\", \"showbackground\": true, \"ticks\": \"\", \"zerolinecolor\": \"white\"}, \"yaxis\": {\"backgroundcolor\": \"#E5ECF6\", \"gridcolor\": \"white\", \"gridwidth\": 2, \"linecolor\": \"white\", \"showbackground\": true, \"ticks\": \"\", \"zerolinecolor\": \"white\"}, \"zaxis\": {\"backgroundcolor\": \"#E5ECF6\", \"gridcolor\": \"white\", \"gridwidth\": 2, \"linecolor\": \"white\", \"showbackground\": true, \"ticks\": \"\", \"zerolinecolor\": \"white\"}}, \"shapedefaults\": {\"line\": {\"color\": \"#2a3f5f\"}}, \"ternary\": {\"aaxis\": {\"gridcolor\": \"white\", \"linecolor\": \"white\", \"ticks\": \"\"}, \"baxis\": {\"gridcolor\": \"white\", \"linecolor\": \"white\", \"ticks\": \"\"}, \"bgcolor\": \"#E5ECF6\", \"caxis\": {\"gridcolor\": \"white\", \"linecolor\": \"white\", \"ticks\": \"\"}}, \"title\": {\"x\": 0.05}, \"xaxis\": {\"automargin\": true, \"gridcolor\": \"white\", \"linecolor\": \"white\", \"ticks\": \"\", \"title\": {\"standoff\": 15}, \"zerolinecolor\": \"white\", \"zerolinewidth\": 2}, \"yaxis\": {\"automargin\": true, \"gridcolor\": \"white\", \"linecolor\": \"white\", \"ticks\": \"\", \"title\": {\"standoff\": 15}, \"zerolinecolor\": \"white\", \"zerolinewidth\": 2}}}, \"title\": {\"text\": \"3d Plot for Rule Mining\"}, \"width\": 900},\n",
       "                        {\"responsive\": true}\n",
       "                    ).then(function(){\n",
       "                            \n",
       "var gd = document.getElementById('442153cf-cd3c-449b-91a7-b8b8c10b6ae5');\n",
       "var x = new MutationObserver(function (mutations, observer) {{\n",
       "        var display = window.getComputedStyle(gd).display;\n",
       "        if (!display || display === 'none') {{\n",
       "            console.log([gd, 'removed!']);\n",
       "            Plotly.purge(gd);\n",
       "            observer.disconnect();\n",
       "        }}\n",
       "}});\n",
       "\n",
       "// Listen for the removal of the full notebook cells\n",
       "var notebookContainer = gd.closest('#notebook-container');\n",
       "if (notebookContainer) {{\n",
       "    x.observe(notebookContainer, {childList: true});\n",
       "}}\n",
       "\n",
       "// Listen for the clearing of the current output cell\n",
       "var outputEl = gd.closest('.output');\n",
       "if (outputEl) {{\n",
       "    x.observe(outputEl, {childList: true});\n",
       "}}\n",
       "\n",
       "                        })\n",
       "                };\n",
       "                });\n",
       "            </script>\n",
       "        </div>"
      ]
     },
     "metadata": {},
     "output_type": "display_data"
    }
   ],
   "source": [
    "plot_model(model1, plot='3d')"
   ]
  },
  {
   "cell_type": "code",
   "execution_count": null,
   "metadata": {},
   "outputs": [],
   "source": []
  }
 ],
 "metadata": {
  "kernelspec": {
   "display_name": "Python 3",
   "language": "python",
   "name": "python3"
  },
  "language_info": {
   "codemirror_mode": {
    "name": "ipython",
    "version": 3
   },
   "file_extension": ".py",
   "mimetype": "text/x-python",
   "name": "python",
   "nbconvert_exporter": "python",
   "pygments_lexer": "ipython3",
   "version": "3.7.6"
  }
 },
 "nbformat": 4,
 "nbformat_minor": 2
}
